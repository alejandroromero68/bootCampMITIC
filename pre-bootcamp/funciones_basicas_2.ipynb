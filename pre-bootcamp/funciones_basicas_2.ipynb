{
 "cells": [
  {
   "cell_type": "markdown",
   "metadata": {},
   "source": [
    "**Suma y resta:** crea una función que reciba una lista con dos números. Imprime la suma de los dos números y regresa la resta de los dos números.\n",
    "Ejemplo: suma_y_resta([5, 4]) debe de imprimir 9 y regresar 1"
   ]
  },
  {
   "cell_type": "code",
   "execution_count": null,
   "metadata": {},
   "outputs": [],
   "source": []
  },
  {
   "cell_type": "markdown",
   "metadata": {},
   "source": [
    "#algo"
   ]
  },
  {
   "cell_type": "code",
   "execution_count": null,
   "metadata": {},
   "outputs": [],
   "source": [
    "print(\"Crea el archivo un Python llamado funciones_basicas_2.py\")\n",
    "print()\n",
    "print(\"Crea la función multiplica_por_dos(num)\")\n",
    "\n",
    "def multiplica_por_2(n):\n",
    "    # Crea una lista con los números multiplicados por 2\n",
    "    return [i * 2 for i in range(n + 1)]\n",
    "\n",
    "# Ejemplo de uso\n",
    "resultado = multiplica_por_2(5)\n",
    "print(resultado)  # $ python funciones_basicas_2.py: [0, 2, 4, 6, 8, 10]"
   ]
  },
  {
   "cell_type": "markdown",
   "metadata": {},
   "source": [
    "###Dataframe"
   ]
  },
  {
   "cell_type": "code",
   "execution_count": null,
   "metadata": {},
   "outputs": [],
   "source": [
    "import pandas as pd\n",
    "\n",
    "# Crear un diccionario con datos\n",
    "data = {\n",
    "    'Nombre': ['Ana', 'Juan', 'Luis'],\n",
    "    'Edad': [28, 34, 45],\n",
    "    'Ciudad': ['Santiago', 'Valparaíso', 'Concepción']\n",
    "}\n",
    "\n",
    "# Crear un DataFrame a partir del diccionario\n",
    "df = pd.DataFrame(data)\n",
    "\n",
    "# Mostrar el DataFrame\n",
    "print(df)"
   ]
  },
  {
   "cell_type": "code",
   "execution_count": 1,
   "metadata": {},
   "outputs": [
    {
     "name": "stdout",
     "output_type": "stream",
     "text": [
      "       Nombre  Edad       Ciudad\n",
      "0         Ana    28     Santiago\n",
      "1        Juan    34   Valparaíso\n",
      "2        Luis    45   Concepción\n",
      "3  Alejandro     56  Villa Elisa\n",
      "4       Luisa    47  Villa Elisa\n"
     ]
    }
   ],
   "source": [
    "import pandas as pd\n",
    "\n",
    "# Cargar el archivo CSV en un DataFrame\n",
    "df = pd.read_csv('c:/varios/datosBootcamp/empleados.csv', encoding='latin1')\n",
    "\n",
    "# Mostrar las primeras 5 filas del DataFrame\n",
    "print(df.head())"
   ]
  }
 ],
 "metadata": {
  "kernelspec": {
   "display_name": "venv",
   "language": "python",
   "name": "python3"
  },
  "language_info": {
   "codemirror_mode": {
    "name": "ipython",
    "version": 3
   },
   "file_extension": ".py",
   "mimetype": "text/x-python",
   "name": "python",
   "nbconvert_exporter": "python",
   "pygments_lexer": "ipython3",
   "version": "3.12.6"
  }
 },
 "nbformat": 4,
 "nbformat_minor": 2
}
