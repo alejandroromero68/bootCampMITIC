{
 "cells": [
  {
   "cell_type": "code",
   "execution_count": null,
   "metadata": {},
   "outputs": [],
   "source": [
    "import pandas as pd\n",
    "\n",
    "# Cargar el archivo CSV con la codificación adecuada\n",
    "df = pd.read_csv('c:/varios/datosBootcamp/empleados.csv', encoding='latin1')\n",
    "\n",
    "# Mostrar las primeras 5 filas del DataFrame\n",
    "print(df.head())"
   ]
  },
  {
   "cell_type": "markdown",
   "metadata": {},
   "source": [
    "Abre excel"
   ]
  },
  {
   "cell_type": "code",
   "execution_count": 11,
   "metadata": {},
   "outputs": [
    {
     "name": "stdout",
     "output_type": "stream",
     "text": [
      "   Nombre  Edad       Ciudad\n",
      "0     Ana    28     Santiago\n",
      "1   Diana    24     Asuncion\n",
      "2  Robert    25  Villa Elisa\n",
      "3    Juan    34   Valparaíso\n",
      "4    Luis    45   Concepción\n"
     ]
    }
   ],
   "source": [
    "import pandas as pd\n",
    "\n",
    "# Cargar el archivo .xls en un DataFrame\n",
    "df = pd.read_excel('c:/varios/datosBootcamp/empleados.xls', engine='xlrd')\n",
    "\n",
    "# Mostrar las primeras 5 filas del archivo\n",
    "print(df.head())"
   ]
  }
 ],
 "metadata": {
  "kernelspec": {
   "display_name": "venv",
   "language": "python",
   "name": "python3"
  },
  "language_info": {
   "codemirror_mode": {
    "name": "ipython",
    "version": 3
   },
   "file_extension": ".py",
   "mimetype": "text/x-python",
   "name": "python",
   "nbconvert_exporter": "python",
   "pygments_lexer": "ipython3",
   "version": "3.12.6"
  }
 },
 "nbformat": 4,
 "nbformat_minor": 2
}
