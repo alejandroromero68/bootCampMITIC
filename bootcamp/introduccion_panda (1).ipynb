{
 "cells": [
  {
   "cell_type": "markdown",
   "metadata": {},
   "source": [
    "Introducción a Pandas\n",
    "\n",
    "¿Qué es Pandas?\n",
    "Pandas es una biblioteca de código abierto de Python que proporciona estructuras de datos de alto rendimiento y herramientas de análisis de datos fáciles de usar. Su nombre es una combinación de «panel data» y «Python data analysis library». Pandas es ideal para trabajar con datos tabulares y series temporales.\n",
    "\n",
    " \n",
    "\n",
    "Instalación y Configuración\n",
    "\n",
    "Si no tienes Pandas instalado, puedes instalarlo utilizando pip:\n",
    "\n",
    "pip install pandas\n",
    "\n",
    "\n",
    "import pandas as pd\n",
    "Asegúrate de importar Pandas en tu entorno de trabajo para empezar a usar sus funcionalidades.\n",
    "\n",
    " \n"
   ]
  },
  {
   "cell_type": "markdown",
   "metadata": {},
   "source": [
    "Estructuras de Datos en Pandas\n",
    "\n",
    "Pandas introduce dos estructuras de datos principales: Series y DataFrames.\n",
    "\n",
    "Series: Una Serie es una estructura de datos unidimensional que puede contener cualquier tipo de datos. Es similar a un array de NumPy, pero con etiquetas de índice que permiten un acceso más conveniente a los datos.\n",
    "\n",
    "Creación de una Serie: Puedes crear una Serie a partir de una lista, un array de NumPy, un diccionario o un valor escalar."
   ]
  },
  {
   "cell_type": "code",
   "execution_count": null,
   "metadata": {},
   "outputs": [],
   "source": [
    "import pandas as pd\n",
    "\n",
    "# Creando una Serie a partir de una lista\n",
    "lista = [1, 2, 3, 4, 5]\n",
    "serie = pd.Series(lista)\n",
    "print(serie)\n",
    "\n",
    "# Creando una Serie a partir de un diccionario\n",
    "diccionario = {'a': 10, 'b': 20, 'c': 30}\n",
    "serie_dicc = pd.Series(diccionario)\n",
    "print(serie_dicc)\n",
    "\n",
    "# Creando una Serie a partir de un valor escalar\n",
    "valor_escalar = 5\n",
    "serie_escalar = pd.Series(valor_escalar, index=['x', 'y', 'z'])\n",
    "\n",
    "print(serie_escalar)"
   ]
  },
  {
   "cell_type": "markdown",
   "metadata": {},
   "source": [
    "Acceso a los Elementos de una Serie: \n",
    "\n",
    "Puedes acceder a los elementos de una Serie utilizando índices."
   ]
  },
  {
   "cell_type": "code",
   "execution_count": null,
   "metadata": {},
   "outputs": [],
   "source": [
    "# Acceso por índice\n",
    "print(serie[0])  # Primer elemento\n",
    "\n",
    "# Acceso por etiqueta\n",
    "print(serie_dicc['a'])  # Elemento con etiqueta 'a'"
   ]
  },
  {
   "cell_type": "markdown",
   "metadata": {},
   "source": [
    "Métodos y Operaciones en Series: \n",
    "\n",
    "Las Series tienen una variedad de métodos útiles para realizar operaciones como suma, resta, multiplicación y división."
   ]
  },
  {
   "cell_type": "code",
   "execution_count": null,
   "metadata": {},
   "outputs": [],
   "source": [
    "import pandas as pd\n",
    "\n",
    "# Creando una Serie a partir de una lista\n",
    "lista = [1, 2, 3, 4, 5]\n",
    "serie = pd.Series(lista)\n",
    "\n",
    "# Realizando operaciones con la serie creada\n",
    "print(\"Serie original:\")\n",
    "print(serie)\n",
    "\n",
    "# Suma de 10 a cada valor\n",
    "print(\"\\nSuma de 10 a cada valor:\")\n",
    "print(serie + 10)\n",
    "\n",
    "# Multiplicación por 2\n",
    "print(\"\\nMultiplicación por 2:\")\n",
    "print(serie * 2)\n",
    "\n",
    "# Resta de 1 a cada valor\n",
    "print(\"\\nResta de 1 a cada valor:\")\n",
    "print(serie - 1)\n",
    "\n",
    "# División por 2\n",
    "print(\"\\nDivisión por 2:\")\n",
    "print(serie / 2)\n"
   ]
  },
  {
   "cell_type": "markdown",
   "metadata": {},
   "source": [
    "DataFrame: \n",
    "\n",
    "Un DataFrame es una estructura de datos bidimensional, similar a una tabla en una base de datos o una hoja de cálculo. Un DataFrame tiene ejes etiquetados (filas y columnas) y puede contener diferentes tipos de datos (numéricos, cadenas, etc.).\n",
    "\n",
    "Creación de un DataFrame: \n",
    "\n",
    "Puedes crear un DataFrame a partir de un diccionario de listas, un array de NumPy, una lista de diccionarios o una Serie de Pandas."
   ]
  },
  {
   "cell_type": "code",
   "execution_count": null,
   "metadata": {},
   "outputs": [],
   "source": [
    "import pandas as pd\n",
    "\n",
    "# Creando un DataFrame a partir de un diccionario de listas\n",
    "data = {\n",
    "    'Producto': ['Manzanas', 'Naranjas', 'Bananas'],\n",
    "    'Ventas': [50, 30, 20]\n",
    "}\n",
    "df = pd.DataFrame(data)\n",
    "print(df)\n",
    "\n",
    "# Creando un DataFrame a partir de un array de NumPy\n",
    "import numpy as np\n",
    "\n",
    "array = np.array([[1, 2, 3], [4, 5, 6], [7, 8, 9]])\n",
    "df_array = pd.DataFrame(array, columns=['A', 'B', 'C'])\n",
    "print(df_array)\n",
    "\n",
    "# Creando un DataFrame a partir de una lista de diccionarios\n",
    "lista_dicc = [\n",
    "    {'Producto': 'Manzanas', 'Ventas': 50},\n",
    "    {'Producto': 'Naranjas', 'Ventas': 30},\n",
    "    {'Producto': 'Bananas', 'Ventas': 20}\n",
    "]\n",
    "df_lista_dicc = pd.DataFrame(lista_dicc)\n",
    "print(df_lista_dicc)"
   ]
  },
  {
   "cell_type": "markdown",
   "metadata": {},
   "source": [
    "Acceso a los Elementos de un DataFrame: \n",
    "\n",
    "Puedes acceder a los datos de un DataFrame de varias maneras, incluyendo la notación de corchetes, el método .loc y el método .iloc."
   ]
  },
  {
   "cell_type": "code",
   "execution_count": null,
   "metadata": {},
   "outputs": [],
   "source": [
    "# Acceso a columnas\n",
    "print(df['Producto'])  # Acceder a una columna\n",
    "print(df[['Producto', 'Ventas']])  # Acceder a múltiples columnas\n",
    "\n",
    "# Acceso a filas por índice\n",
    "print(df.loc[0])  # Primera fila\n",
    "print(df.iloc[1])  # Segunda fila\n",
    "\n",
    "# Acceso a un elemento específico\n",
    "print(df.loc[0, 'Producto'])  # Primera fila, columna 'Producto'\n",
    "print(df.iloc[1, 1])  # Segunda fila, segunda columna"
   ]
  },
  {
   "cell_type": "markdown",
   "metadata": {},
   "source": [
    "Métodos y Operaciones en DataFrames: \n",
    "\n",
    "Los DataFrames tienen muchos métodos útiles para realizar operaciones como agregar filas, eliminar columnas, filtrar datos y más."
   ]
  },
  {
   "cell_type": "code",
   "execution_count": null,
   "metadata": {},
   "outputs": [],
   "source": [
    "# Agregar una nueva columna\n",
    "df['Precio'] = [0.5, 0.75, 0.3]\n",
    "print(df)\n",
    "\n",
    "# Eliminar una columna\n",
    "df = df.drop('Precio', axis=1)\n",
    "print(df)\n",
    "\n",
    "# Filtrar datos\n",
    "filtro = df['Ventas'] > 20\n",
    "df_filtrado = df[filtro]\n",
    "print(df_filtrado)"
   ]
  },
  {
   "cell_type": "markdown",
   "metadata": {},
   "source": [
    "Operaciones Básicas con Pandas\n",
    "\n",
    "Cargar Datos: \n",
    "\n",
    "Pandas ofrece funciones fáciles de usar para cargar datos desde diferentes fuentes, como archivos CSV, Excel, SQL, entre otros.\n",
    "\n",
    "Cargar Datos desde un Archivo CSV"
   ]
  },
  {
   "cell_type": "code",
   "execution_count": null,
   "metadata": {},
   "outputs": [],
   "source": [
    "import pandas as pd\n",
    "\n",
    "# Cargar datos desde un archivo CSV\n",
    "df = pd.read_csv(r'C:\\varios\\datosbootcamp\\empleados.csv')\n",
    "print(df.head())"
   ]
  },
  {
   "cell_type": "markdown",
   "metadata": {},
   "source": [
    "Cargar Datos desde un Archivo Excel"
   ]
  },
  {
   "cell_type": "code",
   "execution_count": null,
   "metadata": {},
   "outputs": [],
   "source": [
    "import pandas as pd\n",
    "\n",
    "# Cargar datos desde un archivo Excel\n",
    "df_excel = pd.read_excel(r'C:\\varios\\datosbootcamp\\empleados.xlsx')\n",
    "print(df_excel.head())"
   ]
  },
  {
   "cell_type": "markdown",
   "metadata": {},
   "source": [
    "Cargar Datos desde una Base de Datos SQL"
   ]
  },
  {
   "cell_type": "code",
   "execution_count": 42,
   "metadata": {},
   "outputs": [
    {
     "name": "stdout",
     "output_type": "stream",
     "text": [
      "   codigo_tipo_curso          tipo_curso\n",
      "0                  1     ESPECIALIZACIÓN\n",
      "1                  2     TÉCNICO DOCENTE\n",
      "2                  3        HABILITACIÓN\n",
      "3                  4  PROFESIONALIZACIÓN\n",
      "4                  5       ACTUALIZACIÓN\n",
      "(1, 'ESPECIALIZACIÓN')\n",
      "(2, 'TÉCNICO DOCENTE')\n",
      "(3, 'HABILITACIÓN')\n",
      "(4, 'PROFESIONALIZACIÓN')\n",
      "(5, 'ACTUALIZACIÓN')\n",
      "(6, 'CAPACITACIÓN')\n",
      "(7, 'MAESTRIA')\n"
     ]
    },
    {
     "name": "stderr",
     "output_type": "stream",
     "text": [
      "C:\\Users\\USER 4\\AppData\\Local\\Temp\\ipykernel_22392\\495738075.py:19: UserWarning: pandas only supports SQLAlchemy connectable (engine/connection) or database string URI or sqlite3 DBAPI2 connection. Other DBAPI2 objects are not tested. Please consider using SQLAlchemy.\n",
      "  df = pd.read_sql_query(\"SELECT * FROM MEC_UEPP.prcm_tipo_curso\", conexion)\n"
     ]
    }
   ],
   "source": [
    "import mysql.connector\n",
    "\n",
    "# Establece la conexión con la base de datos\n",
    "conexion = mysql.connector.connect(\n",
    "    host=\"192.168.24.229\",\n",
    "    user=\"monitoreo\",\n",
    "    password=\"MEC9621nst1tuc10n3s.\",\n",
    "    database=\"MEC_UEPP\"\n",
    ")\n",
    "\n",
    "# Crear un cursor para ejecutar las consultas\n",
    "cursor = conexion.cursor()\n",
    "\n",
    "# Ejecutar una consulta\n",
    "cursor.execute(\"SELECT * FROM MEC_UEPP.prcm_tipo_curso\")\n",
    "\n",
    "# Obtener los resultados\n",
    "resultados = cursor.fetchall()\n",
    "df = pd.read_sql_query(\"SELECT * FROM MEC_UEPP.prcm_tipo_curso\", conexion)\n",
    "print(df.head())\n",
    "# Imprimir los resultados\n",
    "for fila in resultados:\n",
    "    print(fila)\n",
    "\n",
    "# Cerrar el cursor y la conexión\n",
    "cursor.close()\n",
    "conexion.close()\n"
   ]
  },
  {
   "cell_type": "code",
   "execution_count": null,
   "metadata": {},
   "outputs": [],
   "source": [
    "import sqlite3\n",
    "import pandas as pd\n",
    "\n",
    "# Conectar a la base de datos\n",
    "conexion = sqlite3.connect('ruta/al/archivo.db')\n",
    "\n",
    "# Leer datos desde una tabla SQL\n",
    "df_sql = pd.read_sql_query(\"SELECT * FROM nombre_tabla\", conexion)\n",
    "print(df_sql.head())\n",
    "\n",
    "# Cerrar la conexión\n",
    "conexion.close()"
   ]
  },
  {
   "cell_type": "markdown",
   "metadata": {},
   "source": []
  },
  {
   "cell_type": "code",
   "execution_count": 26,
   "metadata": {},
   "outputs": [
    {
     "name": "stdout",
     "output_type": "stream",
     "text": [
      "       nro;nombre;edad;ciudad\n",
      "0  1;Alejandro;56;Villa Elisa\n",
      "1       2;Roberto;25;Asuncion\n",
      "2      3;Luisa;46;Encarnacion\n",
      "3        4;Luz;19;Encarnacion\n",
      "4  5;Ezequiel;17;Cnel. Bogado\n",
      "       nro;nombre;edad;ciudad\n",
      "0  1;Alejandro;56;Villa Elisa\n",
      "1       2;Roberto;25;Asuncion\n",
      "2      3;Luisa;46;Encarnacion\n",
      "3        4;Luz;19;Encarnacion\n",
      "4  5;Ezequiel;17;Cnel. Bogado\n",
      "5         6;Diana;24;Asuncion\n",
      "       nro;nombre;edad;ciudad\n",
      "1       2;Roberto;25;Asuncion\n",
      "2      3;Luisa;46;Encarnacion\n",
      "3        4;Luz;19;Encarnacion\n",
      "4  5;Ezequiel;17;Cnel. Bogado\n",
      "5         6;Diana;24;Asuncion\n",
      "       nro;nombre;edad;ciudad\n",
      "0  1;Alejandro;56;Villa Elisa\n",
      "1       2;Roberto;25;Asuncion\n",
      "2      3;Luisa;46;Encarnacion\n",
      "3        4;Luz;19;Encarnacion\n",
      "4  5;Ezequiel;17;Cnel. Bogado\n",
      "5         6;Diana;24;Asuncion\n"
     ]
    }
   ],
   "source": [
    "# Ver las primeras 5 filas del DataFrame\n",
    "print(df.head())\n",
    "# Ver las primeras 10 filas del DataFrame\n",
    "print(df.head(10))\n",
    "# Ver las últimas 5 filas del DataFrame\n",
    "print(df.tail())\n",
    "# Ver las últimas 10 filas del DataFrame\n",
    "print(df.tail(10))"
   ]
  },
  {
   "cell_type": "markdown",
   "metadata": {},
   "source": [
    "Obtener Información General sobre el DataFrame: El método info() proporciona un resumen conciso del DataFrame, incluyendo el número de entradas, nombres de las columnas, tipos de datos, y el uso de memoria."
   ]
  },
  {
   "cell_type": "code",
   "execution_count": 38,
   "metadata": {},
   "outputs": [
    {
     "name": "stdout",
     "output_type": "stream",
     "text": [
      "<class 'pandas.core.frame.DataFrame'>\n",
      "Index: 7 entries, (1, 'ESPECIALIZACIÓN') to (7, 'MAESTRIA')\n",
      "Empty DataFrame\n",
      "None\n"
     ]
    }
   ],
   "source": [
    "# Información general del DataFrame\n",
    "print(df.info())"
   ]
  },
  {
   "cell_type": "markdown",
   "metadata": {},
   "source": [
    "Estadísticas Descriptivas: \n",
    "\n",
    "El método describe() genera estadísticas descriptivas que resumen la tendencia central, dispersión y forma de la distribución de un conjunto de datos."
   ]
  },
  {
   "cell_type": "code",
   "execution_count": 37,
   "metadata": {},
   "outputs": [
    {
     "ename": "ValueError",
     "evalue": "Cannot describe a DataFrame without columns",
     "output_type": "error",
     "traceback": [
      "\u001b[1;31m---------------------------------------------------------------------------\u001b[0m",
      "\u001b[1;31mValueError\u001b[0m                                Traceback (most recent call last)",
      "Cell \u001b[1;32mIn[37], line 2\u001b[0m\n\u001b[0;32m      1\u001b[0m \u001b[38;5;66;03m# Estadísticas descriptivas del DataFrame\u001b[39;00m\n\u001b[1;32m----> 2\u001b[0m \u001b[38;5;28mprint\u001b[39m(\u001b[43mdf\u001b[49m\u001b[38;5;241;43m.\u001b[39;49m\u001b[43mdescribe\u001b[49m\u001b[43m(\u001b[49m\u001b[43m)\u001b[49m)\n",
      "File \u001b[1;32mc:\\Users\\USER 4\\AppData\\Local\\Programs\\Python\\Python312\\Lib\\site-packages\\pandas\\core\\generic.py:11976\u001b[0m, in \u001b[0;36mNDFrame.describe\u001b[1;34m(self, percentiles, include, exclude)\u001b[0m\n\u001b[0;32m  11734\u001b[0m \u001b[38;5;129m@final\u001b[39m\n\u001b[0;32m  11735\u001b[0m \u001b[38;5;28;01mdef\u001b[39;00m \u001b[38;5;21mdescribe\u001b[39m(\n\u001b[0;32m  11736\u001b[0m     \u001b[38;5;28mself\u001b[39m,\n\u001b[1;32m   (...)\u001b[0m\n\u001b[0;32m  11739\u001b[0m     exclude\u001b[38;5;241m=\u001b[39m\u001b[38;5;28;01mNone\u001b[39;00m,\n\u001b[0;32m  11740\u001b[0m ) \u001b[38;5;241m-\u001b[39m\u001b[38;5;241m>\u001b[39m Self:\n\u001b[0;32m  11741\u001b[0m \u001b[38;5;250m    \u001b[39m\u001b[38;5;124;03m\"\"\"\u001b[39;00m\n\u001b[0;32m  11742\u001b[0m \u001b[38;5;124;03m    Generate descriptive statistics.\u001b[39;00m\n\u001b[0;32m  11743\u001b[0m \n\u001b[1;32m   (...)\u001b[0m\n\u001b[0;32m  11974\u001b[0m \u001b[38;5;124;03m    max            NaN      3.0\u001b[39;00m\n\u001b[0;32m  11975\u001b[0m \u001b[38;5;124;03m    \"\"\"\u001b[39;00m\n\u001b[1;32m> 11976\u001b[0m     \u001b[38;5;28;01mreturn\u001b[39;00m \u001b[43mdescribe_ndframe\u001b[49m\u001b[43m(\u001b[49m\n\u001b[0;32m  11977\u001b[0m \u001b[43m        \u001b[49m\u001b[43mobj\u001b[49m\u001b[38;5;241;43m=\u001b[39;49m\u001b[38;5;28;43mself\u001b[39;49m\u001b[43m,\u001b[49m\n\u001b[0;32m  11978\u001b[0m \u001b[43m        \u001b[49m\u001b[43minclude\u001b[49m\u001b[38;5;241;43m=\u001b[39;49m\u001b[43minclude\u001b[49m\u001b[43m,\u001b[49m\n\u001b[0;32m  11979\u001b[0m \u001b[43m        \u001b[49m\u001b[43mexclude\u001b[49m\u001b[38;5;241;43m=\u001b[39;49m\u001b[43mexclude\u001b[49m\u001b[43m,\u001b[49m\n\u001b[0;32m  11980\u001b[0m \u001b[43m        \u001b[49m\u001b[43mpercentiles\u001b[49m\u001b[38;5;241;43m=\u001b[39;49m\u001b[43mpercentiles\u001b[49m\u001b[43m,\u001b[49m\n\u001b[0;32m  11981\u001b[0m \u001b[43m    \u001b[49m\u001b[43m)\u001b[49m\u001b[38;5;241m.\u001b[39m__finalize__(\u001b[38;5;28mself\u001b[39m, method\u001b[38;5;241m=\u001b[39m\u001b[38;5;124m\"\u001b[39m\u001b[38;5;124mdescribe\u001b[39m\u001b[38;5;124m\"\u001b[39m)\n",
      "File \u001b[1;32mc:\\Users\\USER 4\\AppData\\Local\\Programs\\Python\\Python312\\Lib\\site-packages\\pandas\\core\\methods\\describe.py:91\u001b[0m, in \u001b[0;36mdescribe_ndframe\u001b[1;34m(obj, include, exclude, percentiles)\u001b[0m\n\u001b[0;32m     87\u001b[0m     describer \u001b[38;5;241m=\u001b[39m SeriesDescriber(\n\u001b[0;32m     88\u001b[0m         obj\u001b[38;5;241m=\u001b[39mcast(\u001b[38;5;124m\"\u001b[39m\u001b[38;5;124mSeries\u001b[39m\u001b[38;5;124m\"\u001b[39m, obj),\n\u001b[0;32m     89\u001b[0m     )\n\u001b[0;32m     90\u001b[0m \u001b[38;5;28;01melse\u001b[39;00m:\n\u001b[1;32m---> 91\u001b[0m     describer \u001b[38;5;241m=\u001b[39m \u001b[43mDataFrameDescriber\u001b[49m\u001b[43m(\u001b[49m\n\u001b[0;32m     92\u001b[0m \u001b[43m        \u001b[49m\u001b[43mobj\u001b[49m\u001b[38;5;241;43m=\u001b[39;49m\u001b[43mcast\u001b[49m\u001b[43m(\u001b[49m\u001b[38;5;124;43m\"\u001b[39;49m\u001b[38;5;124;43mDataFrame\u001b[39;49m\u001b[38;5;124;43m\"\u001b[39;49m\u001b[43m,\u001b[49m\u001b[43m \u001b[49m\u001b[43mobj\u001b[49m\u001b[43m)\u001b[49m\u001b[43m,\u001b[49m\n\u001b[0;32m     93\u001b[0m \u001b[43m        \u001b[49m\u001b[43minclude\u001b[49m\u001b[38;5;241;43m=\u001b[39;49m\u001b[43minclude\u001b[49m\u001b[43m,\u001b[49m\n\u001b[0;32m     94\u001b[0m \u001b[43m        \u001b[49m\u001b[43mexclude\u001b[49m\u001b[38;5;241;43m=\u001b[39;49m\u001b[43mexclude\u001b[49m\u001b[43m,\u001b[49m\n\u001b[0;32m     95\u001b[0m \u001b[43m    \u001b[49m\u001b[43m)\u001b[49m\n\u001b[0;32m     97\u001b[0m result \u001b[38;5;241m=\u001b[39m describer\u001b[38;5;241m.\u001b[39mdescribe(percentiles\u001b[38;5;241m=\u001b[39mpercentiles)\n\u001b[0;32m     98\u001b[0m \u001b[38;5;28;01mreturn\u001b[39;00m cast(NDFrameT, result)\n",
      "File \u001b[1;32mc:\\Users\\USER 4\\AppData\\Local\\Programs\\Python\\Python312\\Lib\\site-packages\\pandas\\core\\methods\\describe.py:162\u001b[0m, in \u001b[0;36mDataFrameDescriber.__init__\u001b[1;34m(self, obj, include, exclude)\u001b[0m\n\u001b[0;32m    159\u001b[0m \u001b[38;5;28mself\u001b[39m\u001b[38;5;241m.\u001b[39mexclude \u001b[38;5;241m=\u001b[39m exclude\n\u001b[0;32m    161\u001b[0m \u001b[38;5;28;01mif\u001b[39;00m obj\u001b[38;5;241m.\u001b[39mndim \u001b[38;5;241m==\u001b[39m \u001b[38;5;241m2\u001b[39m \u001b[38;5;129;01mand\u001b[39;00m obj\u001b[38;5;241m.\u001b[39mcolumns\u001b[38;5;241m.\u001b[39msize \u001b[38;5;241m==\u001b[39m \u001b[38;5;241m0\u001b[39m:\n\u001b[1;32m--> 162\u001b[0m     \u001b[38;5;28;01mraise\u001b[39;00m \u001b[38;5;167;01mValueError\u001b[39;00m(\u001b[38;5;124m\"\u001b[39m\u001b[38;5;124mCannot describe a DataFrame without columns\u001b[39m\u001b[38;5;124m\"\u001b[39m)\n\u001b[0;32m    164\u001b[0m \u001b[38;5;28msuper\u001b[39m()\u001b[38;5;241m.\u001b[39m\u001b[38;5;21m__init__\u001b[39m(obj)\n",
      "\u001b[1;31mValueError\u001b[0m: Cannot describe a DataFrame without columns"
     ]
    }
   ],
   "source": [
    "# Estadísticas descriptivas del DataFrame\n",
    "print(df.describe())"
   ]
  },
  {
   "cell_type": "markdown",
   "metadata": {},
   "source": [
    "Inspeccionar los Tipos de Datos de las Columnas: \n",
    "\n",
    "El atributo dtypes permite inspeccionar los tipos de datos de cada columna en el DataFrame."
   ]
  },
  {
   "cell_type": "code",
   "execution_count": 36,
   "metadata": {},
   "outputs": [
    {
     "name": "stdout",
     "output_type": "stream",
     "text": [
      "Series([], dtype: object)\n"
     ]
    }
   ],
   "source": [
    "# Tipos de datos de las columnas\n",
    "print(df.dtypes)"
   ]
  },
  {
   "cell_type": "markdown",
   "metadata": {},
   "source": [
    "Conteo de Valores Únicos: \n",
    "\n",
    "El método value_counts() es útil para contar las ocurrencias de cada valor único en una columna."
   ]
  },
  {
   "cell_type": "code",
   "execution_count": 29,
   "metadata": {},
   "outputs": [
    {
     "name": "stdout",
     "output_type": "stream",
     "text": [
      "codigo_tipo_curso\n",
      "1    1\n",
      "2    1\n",
      "3    1\n",
      "4    1\n",
      "5    1\n",
      "6    1\n",
      "7    1\n",
      "Name: count, dtype: int64\n",
      "Index(['codigo_tipo_curso', 'tipo_curso'], dtype='object')\n"
     ]
    }
   ],
   "source": [
    "# Conteo de valores únicos en una columna específica\n",
    "print(df['codigo_tipo_curso'].value_counts())\n",
    "print(df.columns)"
   ]
  },
  {
   "cell_type": "markdown",
   "metadata": {},
   "source": [
    "Resumen de Datos Categóricos: \n",
    "\n",
    "El método unique() devuelve una lista de todos los valores únicos en una columna, y el método nunique() devuelve el número de valores únicos."
   ]
  },
  {
   "cell_type": "code",
   "execution_count": 32,
   "metadata": {},
   "outputs": [
    {
     "name": "stdout",
     "output_type": "stream",
     "text": [
      "[1 2 3 4 5 6 7]\n",
      "7\n"
     ]
    }
   ],
   "source": [
    "# Valores únicos en una columna específica\n",
    "print(df['codigo_tipo_curso'].unique())\n",
    "# Número de valores únicos en una columna específica\n",
    "print(df['codigo_tipo_curso'].nunique())"
   ]
  },
  {
   "cell_type": "markdown",
   "metadata": {},
   "source": [
    "Operaciones Adicionales\n",
    "\n",
    "Renombrar Columnas: \n",
    "El método rename() permite renombrar las columnas del DataFrame."
   ]
  },
  {
   "cell_type": "code",
   "execution_count": 33,
   "metadata": {},
   "outputs": [
    {
     "name": "stdout",
     "output_type": "stream",
     "text": [
      "  tipo_curso          tipo_curso\n",
      "0          1     ESPECIALIZACIÓN\n",
      "1          2     TÉCNICO DOCENTE\n",
      "2          3        HABILITACIÓN\n",
      "3          4  PROFESIONALIZACIÓN\n",
      "4          5       ACTUALIZACIÓN\n"
     ]
    }
   ],
   "source": [
    "# Renombrar columnas\n",
    "df.rename(columns={'codigo_tipo_curso': 'tipo_curso'}, inplace=True)\n",
    "print(df.head())"
   ]
  },
  {
   "cell_type": "markdown",
   "metadata": {},
   "source": [
    "Cambiar el Índice del DataFrame: \n",
    "\n",
    "El método set_index() permite establecer una columna como el índice del DataFrame."
   ]
  },
  {
   "cell_type": "code",
   "execution_count": 34,
   "metadata": {},
   "outputs": [
    {
     "name": "stdout",
     "output_type": "stream",
     "text": [
      "Empty DataFrame\n",
      "Columns: []\n",
      "Index: [(1, ESPECIALIZACIÓN), (2, TÉCNICO DOCENTE), (3, HABILITACIÓN), (4, PROFESIONALIZACIÓN), (5, ACTUALIZACIÓN)]\n"
     ]
    }
   ],
   "source": [
    "# Cambiar el índice del DataFrame\n",
    "df.set_index('tipo_curso', inplace=True)\n",
    "print(df.head())"
   ]
  },
  {
   "cell_type": "markdown",
   "metadata": {},
   "source": [
    "Ordenar Datos:  \n",
    "\n",
    "El método sort_values() permite ordenar el DataFrame por una o más columnas."
   ]
  },
  {
   "cell_type": "code",
   "execution_count": 35,
   "metadata": {},
   "outputs": [
    {
     "name": "stdout",
     "output_type": "stream",
     "text": [
      "Empty DataFrame\n",
      "Columns: []\n",
      "Index: [(1, ESPECIALIZACIÓN), (2, TÉCNICO DOCENTE), (3, HABILITACIÓN), (4, PROFESIONALIZACIÓN), (5, ACTUALIZACIÓN)]\n"
     ]
    }
   ],
   "source": [
    "# Ordenar el DataFrame por una columna\n",
    "df_ordenado = df.sort_values(by='tipo_curso')\n",
    "print(df_ordenado.head())"
   ]
  },
  {
   "cell_type": "code",
   "execution_count": 44,
   "metadata": {},
   "outputs": [
    {
     "name": "stdout",
     "output_type": "stream",
     "text": [
      "Index(['codigo_tipo_curso', 'tipo_curso'], dtype='object')\n",
      "   codigo_tipo_curso       tipo_curso\n",
      "4                  5    ACTUALIZACIÓN\n",
      "5                  6     CAPACITACIÓN\n",
      "0                  1  ESPECIALIZACIÓN\n",
      "2                  3     HABILITACIÓN\n",
      "6                  7         MAESTRIA\n"
     ]
    }
   ],
   "source": [
    "# Ordenar el DataFrame por múltiples columnas\n",
    "print(df.columns)\n",
    "df_ordenado = df.sort_values(by=['tipo_curso', 'codigo_tipo_curso'], ascending=[True, False])\n",
    "print(df_ordenado.head())"
   ]
  }
 ],
 "metadata": {
  "kernelspec": {
   "display_name": "Python 3",
   "language": "python",
   "name": "python3"
  },
  "language_info": {
   "codemirror_mode": {
    "name": "ipython",
    "version": 3
   },
   "file_extension": ".py",
   "mimetype": "text/x-python",
   "name": "python",
   "nbconvert_exporter": "python",
   "pygments_lexer": "ipython3",
   "version": "3.12.7"
  }
 },
 "nbformat": 4,
 "nbformat_minor": 2
}
