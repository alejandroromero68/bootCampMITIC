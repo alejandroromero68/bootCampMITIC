{
 "cells": [
  {
   "cell_type": "markdown",
   "metadata": {},
   "source": [
    "f"
   ]
  },
  {
   "cell_type": "code",
   "execution_count": 1,
   "metadata": {},
   "outputs": [
    {
     "name": "stdout",
     "output_type": "stream",
     "text": [
      "<class 'dict'>\n",
      "dict_keys(['coord', 'weather', 'base', 'main', 'visibility', 'wind', 'clouds', 'dt', 'sys', 'timezone', 'id', 'name', 'cod'])\n"
     ]
    },
    {
     "ename": "NameError",
     "evalue": "name 'response' is not defined",
     "output_type": "error",
     "traceback": [
      "\u001b[1;31m---------------------------------------------------------------------------\u001b[0m",
      "\u001b[1;31mNameError\u001b[0m                                 Traceback (most recent call last)",
      "Cell \u001b[1;32mIn[1], line 17\u001b[0m\n\u001b[0;32m     14\u001b[0m \u001b[38;5;28mprint\u001b[39m(\u001b[38;5;28mtype\u001b[39m(json_data))\n\u001b[0;32m     15\u001b[0m \u001b[38;5;28mprint\u001b[39m(json_data\u001b[38;5;241m.\u001b[39mkeys())\n\u001b[1;32m---> 17\u001b[0m \u001b[38;5;28;01mif\u001b[39;00m \u001b[43mresponse\u001b[49m\u001b[38;5;241m.\u001b[39mstatus_code \u001b[38;5;241m==\u001b[39m \u001b[38;5;241m200\u001b[39m:\n\u001b[0;32m     18\u001b[0m     data \u001b[38;5;241m=\u001b[39m response\u001b[38;5;241m.\u001b[39mjson()  \u001b[38;5;66;03m# Convertir a JSON\u001b[39;00m\n\u001b[0;32m     19\u001b[0m     \u001b[38;5;28mprint\u001b[39m(\u001b[38;5;124m\"\u001b[39m\u001b[38;5;124mRegistro completo de datos:\u001b[39m\u001b[38;5;124m\"\u001b[39m)\n",
      "\u001b[1;31mNameError\u001b[0m: name 'response' is not defined"
     ]
    }
   ],
   "source": [
    "import requests\n",
    "import pandas as pd\n",
    "import json\n",
    "import utils\n",
    "\n",
    "# Paso 2: Obtener los Datos\n",
    "api_key = '8cf7b97e38dd72f95a45f8b52ab23457'\n",
    "url = f'http://api.openweathermap.org/data/2.5/weather?q=London&appid={api_key}&units=metric'\n",
    "api_url = 'http://api.openweathermap.org/data/2.5/weather?q=London&appid=8cf7b97e38dd72f95a45f8b52ab23457&units=metric' \n",
    "#response = requests.get(url)\n",
    "#data = response.json()\n",
    "\n",
    "#json_data = utils.fetch_data_from_api(api_url)\n",
    "#print(type(json_data))\n",
    "#print(json_data.keys())\n",
    "\n",
    "if response.status_code == 200:\n",
    "    data = response.json()  # Convertir a JSON\n",
    "    print(\"Registro completo de datos:\")\n",
    "    print(data)  # Imprimir todo el registro JSON\n",
    "\n",
    "    # Acceder a información específica\n",
    "    if 'main' in data:\n",
    "        temperature = data['main']['temp']\n",
    "        pressure = data['main']['pressure']\n",
    "        humidity = data['main']['humidity']\n",
    "        print(f\"Temperatura: {temperature} °C\")\n",
    "        print(f\"Presión: {pressure} hPa\")\n",
    "        print(f\"Humedad: {humidity}%\")\n",
    "else:\n",
    "    print(f\"Error en la solicitud: {response.status_code}\")\n",
    "\n",
    "# Transformar a DataFrame\n",
    "#df = pd.DataFrame(json_data)\n",
    "\n",
    "# Crear un DataFrame a partir de los datos JSON\n",
    "df = pd.json_normalize(json_data)\n",
    "\n"
   ]
  },
  {
   "cell_type": "code",
   "execution_count": 4,
   "metadata": {},
   "outputs": [
    {
     "name": "stdout",
     "output_type": "stream",
     "text": [
      "Registro completo de datos:\n",
      "{'coord': {'lon': 2.3488, 'lat': 48.8534}, 'weather': [{'id': 803, 'main': 'Clouds', 'description': 'broken clouds', 'icon': '04n'}], 'base': 'stations', 'main': {'temp': 10.96, 'feels_like': 10.54, 'temp_min': 10.24, 'temp_max': 11.77, 'pressure': 1012, 'humidity': 93, 'sea_level': 1012, 'grnd_level': 1003}, 'visibility': 10000, 'wind': {'speed': 2.57, 'deg': 350}, 'clouds': {'all': 75}, 'dt': 1728598460, 'sys': {'type': 2, 'id': 2012208, 'country': 'FR', 'sunrise': 1728626707, 'sunset': 1728666545}, 'timezone': 7200, 'id': 2988507, 'name': 'Paris', 'cod': 200}\n",
      "Temperatura: 10.96 °C\n",
      "Presión: 1012 hPa\n",
      "Humedad: 93%\n"
     ]
    }
   ],
   "source": [
    "import requests\n",
    "import pandas as pd\n",
    "\n",
    "# Paso 2: Obtener los Datos\n",
    "api_key = '8cf7b97e38dd72f95a45f8b52ab23457'\n",
    "ciudad='Paris'\n",
    "url = f'http://api.openweathermap.org/data/2.5/weather?q={ciudad}&appid={api_key}&units=metric'\n",
    "\n",
    "# Realizar la solicitud a la API\n",
    "response = requests.get(url)\n",
    "\n",
    "# Verificar el estado de la respuesta\n",
    "if response.status_code == 200:\n",
    "    data = response.json()  # Convertir a JSON\n",
    "    print(\"Registro completo de datos:\")\n",
    "    print(data)  # Imprimir todo el registro JSON\n",
    "\n",
    "    # Acceder a información específica\n",
    "    if 'main' in data:\n",
    "        temperature = data['main']['temp']\n",
    "        pressure = data['main']['pressure']\n",
    "        humidity = data['main']['humidity']\n",
    "        print(f\"Temperatura: {temperature} °C\")\n",
    "        print(f\"Presión: {pressure} hPa\")\n",
    "        print(f\"Humedad: {humidity}%\")\n",
    "        \n",
    "    # Transformar a DataFrame\n",
    "    df = pd.json_normalize(data)  # Crear un DataFrame a partir de los datos JSON\n",
    "  #  print(df.head())  # Mostrar las primeras filas del DataFrame\n",
    "else:\n",
    "    print(f\"Error en la solicitud: {response.status_code}\")\n"
   ]
  },
  {
   "cell_type": "code",
   "execution_count": null,
   "metadata": {},
   "outputs": [],
   "source": [
    "\n",
    "print(\"Primeras 10 filas del DataFrame:\")\n",
    "print(df.head(10))\n",
    "\n",
    "# Paso 3: Exploración Inicial de los Datos\n",
    "print(\"nÚltimas 5 filas del DataFrame:\")\n",
    "print(df.tail(5))\n",
    "\n",
    "print(\"nInformación del DataFrame:\")\n",
    "print(df.info())\n",
    "\n",
    "print(\"nEstadísticas descriptivas del DataFrame:\")\n",
    "print(df.describe())\n",
    "\n",
    "# Paso 4: Inspección de los Datos\n",
    "print(\"nTipos de datos de las columnas:\")\n",
    "print(df.dtypes)\n",
    "\n",
    "print(\"nConteo de valores únicos en la columna 'weather.main':\")\n",
    "print(df['weather'][0][0]['main'])\n",
    "\n",
    "print(\"nValores únicos en la columna 'name':\")\n",
    "print(df['name'].unique())\n",
    "\n",
    "# Paso 5: Filtrado de Datos\n",
    "df['main.temp'] = df['main.temp'].astype(float)\n",
    "df['main.humidity'] = df['main.humidity'].astype(float)\n",
    "\n",
    "temp_mayor_20 = df[df['main.temp'] > 20]\n",
    "print(\"nFilas donde la temperatura es mayor a 20 grados Celsius:\")\n",
    "print(temp_mayor_20)\n",
    "\n",
    "humedad_menor_50 = df[df['main.humidity'] < 50]\n",
    "print(\"nFilas donde la humedad es menor a 50%:\")\n",
    "print(humedad_menor_50)\n",
    "\n",
    "query_result = df.query('name == \"London\" & main.temp < 15')\n",
    "print(\"nFilas donde la ciudad es 'London' y la temperatura es menor a 15 grados Celsius:\")\n",
    "print(query_result)\n",
    "\n",
    "# Paso 6: Slicing de Datos\n",
    "city_temp = df[['name', 'main.temp']]\n",
    "print(\"nColumnas 'city' y 'temp':\")\n",
    "print(city_temp)\n",
    "\n",
    "loc_result = df.loc[5:10, ['name', 'weather']]\n",
    "print(\"nFilas 5 a 10 y columnas 'name' y 'weather' usando loc:\")\n",
    "print(loc_result)\n",
    "\n",
    "iloc_result = df.iloc[0:5, 0:3]\n",
    "print(\"nPrimeras 5 filas y primeras 3 columnas usando iloc:\")\n",
    "print(iloc_result)"
   ]
  },
  {
   "cell_type": "code",
   "execution_count": null,
   "metadata": {},
   "outputs": [],
   "source": [
    "import pandas as pd\n",
    "import requests\n",
    "\n",
    "# Paso 2: Obtener los Datos\n",
    "url = 'https://jsonplaceholder.typicode.com/posts'  # URL corregida\n",
    "response = requests.get(url)\n",
    "\n",
    "# Verificar que la solicitud fue exitosa\n",
    "if response.status_code == 200:\n",
    "    data = response.json()\n",
    "    # Convertir los datos en un DataFrame de pandas\n",
    "    print(type(data))\n",
    "    df = pd.DataFrame(data)\n",
    "    \n",
    "    #print(df.head())  # Mostrar las primeras filas del DataFrame\n",
    "    print(df)\n",
    "else:\n",
    "    print(\"Error al obtener los datos:\", response.status_code)\n"
   ]
  }
 ],
 "metadata": {
  "kernelspec": {
   "display_name": "Python 3",
   "language": "python",
   "name": "python3"
  },
  "language_info": {
   "codemirror_mode": {
    "name": "ipython",
    "version": 3
   },
   "file_extension": ".py",
   "mimetype": "text/x-python",
   "name": "python",
   "nbconvert_exporter": "python",
   "pygments_lexer": "ipython3",
   "version": "3.12.6"
  }
 },
 "nbformat": 4,
 "nbformat_minor": 2
}
