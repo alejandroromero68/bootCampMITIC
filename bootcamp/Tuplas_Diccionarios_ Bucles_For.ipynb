{
 "cells": [
  {
   "cell_type": "markdown",
   "metadata": {},
   "source": [
    "El Poder Oculto de las Tuplas, Diccionarios y Bucles For en Python\n",
    "\n",
    "\n",
    "Tuplas en Python\n",
    "\n",
    "¿Qué es una Tupla?\n",
    "Una tupla es una colección ordenada de elementos que es inmutable, lo que significa que no se puede modificar después de su creación. Las tuplas son útiles cuando se desea almacenar un conjunto de valores relacionados y asegurarse de que estos no cambien.\n",
    "\n",
    "Creación de Tuplas\n",
    "Las tuplas se pueden crear usando paréntesis () y separando los elementos con comas.\n"
   ]
  },
  {
   "cell_type": "code",
   "execution_count": 1,
   "metadata": {},
   "outputs": [
    {
     "name": "stdout",
     "output_type": "stream",
     "text": [
      "(1, 2, 3, 4, 5)\n"
     ]
    }
   ],
   "source": [
    "tupla_vacia = ()\n",
    "tupla_un_elemento = (1,)\n",
    "tupla_varios_elementos = (1, 2, 3, 4, 5)\n",
    "print(tupla_varios_elementos)\n",
    "\n",
    "#(1, 2, 3, 4, 5)"
   ]
  },
  {
   "cell_type": "markdown",
   "metadata": {},
   "source": [
    "Acceso a Elementos de una Tupla\n",
    "\n",
    "Puedes acceder a los elementos de una tupla usando índices, comenzando desde 0."
   ]
  },
  {
   "cell_type": "code",
   "execution_count": 2,
   "metadata": {},
   "outputs": [
    {
     "name": "stdout",
     "output_type": "stream",
     "text": [
      "10\n",
      "40\n"
     ]
    }
   ],
   "source": [
    "tupla = (10, 20, 30, 40, 50)\n",
    "print(tupla[0])  # Primer elemento\n",
    "print(tupla[3])  # Cuarto elemento\n",
    "\n",
    "# 10\n",
    "# 40"
   ]
  },
  {
   "cell_type": "markdown",
   "metadata": {},
   "source": [
    "Desempaquetado de Tuplas\n",
    "\n",
    "Puedes desempaquetar una tupla en variables individuales."
   ]
  },
  {
   "cell_type": "code",
   "execution_count": 3,
   "metadata": {},
   "outputs": [
    {
     "name": "stdout",
     "output_type": "stream",
     "text": [
      "1 2 3\n"
     ]
    }
   ],
   "source": [
    "tupla = (1, 2, 3)\n",
    "a, b, c = tupla\n",
    "print(a, b, c)\n",
    "\n",
    "# 1 2 3"
   ]
  },
  {
   "cell_type": "markdown",
   "metadata": {},
   "source": [
    "Métodos y Operaciones con Tuplas\n",
    "\n",
    "Aunque las tuplas son inmutables, puedes realizar algunas operaciones con ellas, como concatenación y repetición."
   ]
  },
  {
   "cell_type": "code",
   "execution_count": 4,
   "metadata": {},
   "outputs": [
    {
     "name": "stdout",
     "output_type": "stream",
     "text": [
      "(1, 2, 3, 4, 5, 6)\n",
      "(1, 2, 3, 1, 2, 3)\n"
     ]
    }
   ],
   "source": [
    "tupla1 = (1, 2, 3)\n",
    "tupla2 = (4, 5, 6)\n",
    "\n",
    "# Concatenación\n",
    "tupla_concatenada = tupla1 + tupla2\n",
    "print(tupla_concatenada)\n",
    "\n",
    "# Repetición\n",
    "tupla_repetida = tupla1 * 2\n",
    "print(tupla_repetida)\n",
    "\n",
    "# (1, 2, 3, 4, 5, 6)\n",
    "# (1, 2, 3, 1, 2, 3)"
   ]
  },
  {
   "cell_type": "markdown",
   "metadata": {},
   "source": [
    "Diccionarios en Python\n",
    "\n",
    "¿Qué es un Diccionario?\n",
    "\n",
    "Un diccionario es una colección desordenada de pares clave-valor. Cada clave en un diccionario es única y se utiliza para acceder a su valor correspondiente. Los diccionarios son mutables, lo que significa que puedes modificar sus elementos después de su creación.\n",
    "\n",
    "Creación de Diccionarios\n",
    "\n",
    "Los diccionarios se crean usando llaves {} y separando los pares clave-valor con dos puntos :"
   ]
  },
  {
   "cell_type": "code",
   "execution_count": 5,
   "metadata": {},
   "outputs": [
    {
     "name": "stdout",
     "output_type": "stream",
     "text": [
      "{'nombre': 'Juan', 'edad': 25, 'ciudad': 'Madrid'}\n"
     ]
    }
   ],
   "source": [
    "diccionario_vacio = {}\n",
    "diccionario = {\"nombre\": \"Juan\", \"edad\": 25, \"ciudad\": \"Madrid\"}\n",
    "print(diccionario)\n",
    "\n",
    "# {'nombre': 'Juan', 'edad': 25, 'ciudad': 'Madrid'}"
   ]
  },
  {
   "cell_type": "markdown",
   "metadata": {},
   "source": [
    "Acceso y Modificación de Valores\n",
    "Puedes acceder a los valores de un diccionario usando sus claves. También puedes modificar los valores asociados a una clave.\n",
    "\n",
    "\n",
    "Métodos Útiles para Diccionarios\n",
    "\n",
    "Los diccionarios tienen varios métodos útiles para manipular sus elementos.\n",
    "\n",
    "keys(): Devuelve una vista de todas las claves del diccionario.\n",
    "\n",
    "values(): Devuelve una vista de todos los valores del diccionario.\n",
    "\n",
    "items(): Devuelve una vista de todos los pares clave-valor del diccionario.\n",
    "\n",
    "get(): Devuelve el valor de una clave, o un valor por defecto si la clave no existe.\n",
    "\n",
    "pop(): Elimina una clave y devuelve su valor.\n",
    "\n",
    "update(): Actualiza el diccionario con pares clave-valor de otro diccionario o iterable."
   ]
  },
  {
   "cell_type": "code",
   "execution_count": 6,
   "metadata": {},
   "outputs": [
    {
     "name": "stdout",
     "output_type": "stream",
     "text": [
      "dict_keys(['nombre', 'edad', 'ciudad'])\n",
      "dict_values(['Juan', 25, 'Madrid'])\n",
      "dict_items([('nombre', 'Juan'), ('edad', 25), ('ciudad', 'Madrid')])\n",
      "Juan\n",
      "Desconocido\n",
      "25\n",
      "{'nombre': 'Juan', 'ciudad': 'Madrid'}\n",
      "{'nombre': 'Juan', 'ciudad': 'Madrid', 'edad': 26, 'pais': 'España'}\n"
     ]
    }
   ],
   "source": [
    "diccionario = {\"nombre\": \"Juan\", \"edad\": 25, \"ciudad\": \"Madrid\"}\n",
    "\n",
    "# keys()\n",
    "print(diccionario.keys())\n",
    "\n",
    "# values()\n",
    "print(diccionario.values())\n",
    "\n",
    "# items()\n",
    "print(diccionario.items())\n",
    "\n",
    "# get()\n",
    "print(diccionario.get(\"nombre\"))\n",
    "print(diccionario.get(\"profesion\", \"Desconocido\"))\n",
    "\n",
    "# pop()\n",
    "edad = diccionario.pop(\"edad\")\n",
    "print(edad)\n",
    "print(diccionario)\n",
    "\n",
    "# update()\n",
    "diccionario.update({\"edad\": 26, \"pais\": \"España\"})\n",
    "print(diccionario)\n",
    "\n",
    "# dict_keys(['nombre', 'edad', 'ciudad'])\n",
    "#dict_values(['Juan', 25, 'Madrid'])\n",
    "#dict_items([('nombre', 'Juan'), ('edad', 25), ('ciudad', 'Madrid')])\n",
    "#Juan\n",
    "#Desconocido\n",
    "#25\n",
    "#{'nombre': 'Juan', 'ciudad': 'Madrid'}\n",
    "#{'nombre': 'Juan', 'ciudad': 'Madrid', 'edad': 26, 'pais': 'España'}"
   ]
  },
  {
   "cell_type": "markdown",
   "metadata": {},
   "source": [
    "Bucles For en Python\n",
    "\n",
    "¿Qué es un Bucle For?\n",
    "\n",
    "Un bucle for en Python se utiliza para iterar sobre una secuencia (como una lista, tupla, diccionario, conjunto o cadena) y ejecutar un bloque de código para cada elemento de la secuencia.\n",
    "\n",
    "Bucle For con Listas\n",
    "\n",
    "Puedes usar un bucle for para iterar sobre los elementos de una lista."
   ]
  },
  {
   "cell_type": "code",
   "execution_count": 7,
   "metadata": {},
   "outputs": [
    {
     "name": "stdout",
     "output_type": "stream",
     "text": [
      "1\n",
      "2\n",
      "3\n",
      "4\n",
      "5\n"
     ]
    }
   ],
   "source": [
    "lista = [1, 2, 3, 4, 5]\n",
    "for elemento in lista:\n",
    "    print(elemento)\n",
    "\n",
    "#1\n",
    "#2\n",
    "#3\n",
    "#4\n",
    "#5"
   ]
  },
  {
   "cell_type": "markdown",
   "metadata": {},
   "source": [
    "For con Tuplas\n",
    "\n",
    "Los bucles for también funcionan con tuplas."
   ]
  },
  {
   "cell_type": "code",
   "execution_count": 8,
   "metadata": {},
   "outputs": [
    {
     "name": "stdout",
     "output_type": "stream",
     "text": [
      "10\n",
      "20\n",
      "30\n",
      "40\n",
      "50\n"
     ]
    }
   ],
   "source": [
    "tupla = (10, 20, 30, 40, 50)\n",
    "for elemento in tupla:\n",
    "    print(elemento)\n",
    "\n",
    "#10\n",
    "#20\n",
    "#30\n",
    "#40\n",
    "#50"
   ]
  },
  {
   "cell_type": "markdown",
   "metadata": {},
   "source": [
    "Bucle For con Diccionarios\n",
    "\n",
    "Puedes iterar sobre los elementos de un diccionario de diferentes maneras.\n",
    "\n",
    "Iterar sobre claves:"
   ]
  },
  {
   "cell_type": "code",
   "execution_count": 9,
   "metadata": {},
   "outputs": [
    {
     "name": "stdout",
     "output_type": "stream",
     "text": [
      "nombre\n",
      "edad\n",
      "ciudad\n"
     ]
    }
   ],
   "source": [
    "diccionario = {\"nombre\": \"Juan\", \"edad\": 25, \"ciudad\": \"Madrid\"}\n",
    "for clave in diccionario:\n",
    "    print(clave)\n",
    "\n",
    "#nombre\n",
    "#edad\n",
    "#ciudad"
   ]
  },
  {
   "cell_type": "markdown",
   "metadata": {},
   "source": [
    "Iterar sobre valores:"
   ]
  },
  {
   "cell_type": "code",
   "execution_count": 10,
   "metadata": {},
   "outputs": [
    {
     "name": "stdout",
     "output_type": "stream",
     "text": [
      "Juan\n",
      "25\n",
      "Madrid\n"
     ]
    }
   ],
   "source": [
    "for valor in diccionario.values():\n",
    "    print(valor)\n",
    "\n",
    "#Juan\n",
    "#25\n",
    "#Madrid"
   ]
  },
  {
   "cell_type": "markdown",
   "metadata": {},
   "source": [
    "Iterar sobre pares clave-valor:"
   ]
  },
  {
   "cell_type": "code",
   "execution_count": 13,
   "metadata": {},
   "outputs": [
    {
     "name": "stdout",
     "output_type": "stream",
     "text": [
      "nombre: Juan\n",
      "edad: 25\n",
      "ciudad: Madrid\n"
     ]
    }
   ],
   "source": [
    "for clave, valor in diccionario.items():\n",
    "    print(f\"{clave}: {valor}\")\n",
    "\n",
    "#nombre: Juan\n",
    "#edad: 25\n",
    "#ciudad: Madrid"
   ]
  },
  {
   "cell_type": "markdown",
   "metadata": {},
   "source": [
    "Bucle For con la Función Range\n",
    "\n",
    "La función range se utiliza para generar una secuencia de números, lo cual es útil en los bucles for cuando necesitas repetir algo un número específico de veces."
   ]
  },
  {
   "cell_type": "code",
   "execution_count": 14,
   "metadata": {},
   "outputs": [
    {
     "name": "stdout",
     "output_type": "stream",
     "text": [
      "0\n",
      "1\n",
      "2\n",
      "3\n",
      "4\n"
     ]
    }
   ],
   "source": [
    "for i in range(5):\n",
    "    print(i)\n",
    "\n",
    "#0\n",
    "#1\n",
    "#2\n",
    "#3\n",
    "#4"
   ]
  },
  {
   "cell_type": "markdown",
   "metadata": {},
   "source": [
    "Puedes especificar un rango de inicio, fin y un paso."
   ]
  },
  {
   "cell_type": "code",
   "execution_count": 15,
   "metadata": {},
   "outputs": [
    {
     "name": "stdout",
     "output_type": "stream",
     "text": [
      "1\n",
      "3\n",
      "5\n",
      "7\n",
      "9\n"
     ]
    }
   ],
   "source": [
    "for i in range(1, 10, 2):\n",
    "    print(i)\n",
    "\n",
    "#1\n",
    "#3\n",
    "#5  \n",
    "#7\n",
    "#9"
   ]
  }
 ],
 "metadata": {
  "kernelspec": {
   "display_name": "Python 3",
   "language": "python",
   "name": "python3"
  },
  "language_info": {
   "codemirror_mode": {
    "name": "ipython",
    "version": 3
   },
   "file_extension": ".py",
   "mimetype": "text/x-python",
   "name": "python",
   "nbconvert_exporter": "python",
   "pygments_lexer": "ipython3",
   "version": "3.12.6"
  }
 },
 "nbformat": 4,
 "nbformat_minor": 2
}
