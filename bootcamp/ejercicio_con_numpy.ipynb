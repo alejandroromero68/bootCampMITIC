{
 "cells": [
  {
   "cell_type": "markdown",
   "metadata": {},
   "source": [
    "Creacion de Arrays\n",
    "\n",
    "Arrays desde Listas: Puedes crear un array de NumPy a partir de una lista de Python usando la función np.array"
   ]
  },
  {
   "cell_type": "code",
   "execution_count": 1,
   "metadata": {},
   "outputs": [
    {
     "name": "stdout",
     "output_type": "stream",
     "text": [
      "[1 2 3 4 5]\n"
     ]
    }
   ],
   "source": [
    "import numpy as np\n",
    "\n",
    "lista = [1, 2, 3, 4, 5]\n",
    "array = np.array(lista)\n",
    "print(array)"
   ]
  },
  {
   "cell_type": "markdown",
   "metadata": {},
   "source": [
    "Arrays de Ceros y Unos: \n",
    "NumPy también proporciona funciones para crear arrays llenos de ceros o unos, lo cual es útil para inicializar arrays antes de llenarlos con datos."
   ]
  },
  {
   "cell_type": "code",
   "execution_count": 2,
   "metadata": {},
   "outputs": [
    {
     "name": "stdout",
     "output_type": "stream",
     "text": [
      "[0. 0. 0. 0. 0.]\n",
      "[[1. 1. 1. 1.]\n",
      " [1. 1. 1. 1.]\n",
      " [1. 1. 1. 1.]]\n"
     ]
    }
   ],
   "source": [
    "array_ceros = np.zeros(5)\n",
    "print(array_ceros)\n",
    "\n",
    "array_unos = np.ones((3, 4))\n",
    "print(array_unos)"
   ]
  },
  {
   "cell_type": "markdown",
   "metadata": {},
   "source": [
    "Arrays con Rangos: \n",
    "La función np.arange crea un array con valores en un rango específico, similar a la función range de Python.\n"
   ]
  },
  {
   "cell_type": "code",
   "execution_count": 3,
   "metadata": {},
   "outputs": [
    {
     "name": "stdout",
     "output_type": "stream",
     "text": [
      "[0 1 2 3 4 5 6 7 8 9]\n",
      "[0 2 4 6 8]\n"
     ]
    }
   ],
   "source": [
    "array_rango = np.arange(10)\n",
    "print(array_rango)\n",
    "\n",
    "array_rango_paso = np.arange(0, 10, 2)\n",
    "print(array_rango_paso)"
   ]
  },
  {
   "cell_type": "markdown",
   "metadata": {},
   "source": [
    "Arrays con Valores Aleatorios: \n",
    "NumPy proporciona funciones para crear arrays con valores aleatorios. Estas funciones son útiles para tareas como la inicialización aleatoria de parámetros en aprendizaje automático o para simulaciones."
   ]
  },
  {
   "cell_type": "code",
   "execution_count": 4,
   "metadata": {},
   "outputs": [
    {
     "name": "stdout",
     "output_type": "stream",
     "text": [
      "[0.08319743 0.92677741 0.38161874 0.5639349  0.97821112]\n",
      "[[4 1 6]\n",
      " [9 2 9]\n",
      " [0 6 1]]\n"
     ]
    }
   ],
   "source": [
    "array_aleatorio = np.random.random(5)\n",
    "print(array_aleatorio)\n",
    "\n",
    "array_aleatorio_entero = np.random.randint(0, 10, size=(3, 3))\n",
    "print(array_aleatorio_entero)"
   ]
  },
  {
   "cell_type": "markdown",
   "metadata": {},
   "source": [
    "Propiedades y Métodos de los Arrays\n",
    "\n",
    "Una vez que tenemos arrays, es importante conocer sus propiedades y algunos métodos útiles para trabajar con ellos."
   ]
  },
  {
   "cell_type": "code",
   "execution_count": 5,
   "metadata": {},
   "outputs": [
    {
     "name": "stdout",
     "output_type": "stream",
     "text": [
      "(2, 3)\n",
      "6\n",
      "2\n"
     ]
    }
   ],
   "source": [
    "array = np.array([[1, 2, 3], [4, 5, 6]])\n",
    "print(array.shape)\n",
    "print(array.size)\n",
    "print(array.ndim)"
   ]
  },
  {
   "cell_type": "markdown",
   "metadata": {},
   "source": [
    "Propiedades Básicas:\n",
    "Forma (shape): Devuelve una tupla con las dimensiones del array.\n",
    "Tamaño (size): Devuelve el número total de elementos en el array.\n",
    "Dimensión (ndim): Devuelve el número de dimensiones del array.\n",
    " \n",
    "\n",
    "Métodos Útiles\n",
    "reshape: Cambia la forma del array sin cambiar sus datos.\n",
    "flatten: Convierte un array multidimensional en un array unidimensional.\n"
   ]
  },
  {
   "cell_type": "code",
   "execution_count": 6,
   "metadata": {},
   "outputs": [
    {
     "name": "stdout",
     "output_type": "stream",
     "text": [
      "[[1 2]\n",
      " [3 4]\n",
      " [5 6]]\n",
      "[1 2 3 4 5 6]\n"
     ]
    }
   ],
   "source": [
    "array_reshape = array.reshape((3, 2))\n",
    "print(array_reshape)\n",
    "#[[1 2]\n",
    "# [3 4]\n",
    "# [5 6]]\n",
    "array_flatten = array.flatten()\n",
    "print(array_flatten)\n",
    "#[1 2 3 4 5 6]"
   ]
  },
  {
   "cell_type": "markdown",
   "metadata": {},
   "source": [
    "Operaciones Básicas con Arrays\n",
    "NumPy permite realizar operaciones matemáticas básicas de manera eficiente.\n",
    "\n",
    "Suma y Resta: Puedes sumar o restar arrays de la misma forma elemento por elemento."
   ]
  },
  {
   "cell_type": "code",
   "execution_count": 8,
   "metadata": {},
   "outputs": [
    {
     "name": "stdout",
     "output_type": "stream",
     "text": [
      "Suma: [5 7 9]\n",
      "Resta: [-3 -3 -3]\n"
     ]
    }
   ],
   "source": [
    "array1 = np.array([1, 2, 3])\n",
    "array2 = np.array([4, 5, 6])\n",
    "\n",
    "suma = array1 + array2\n",
    "resta = array1 - array2\n",
    "\n",
    "print(\"Suma:\", suma)\n",
    "print(\"Resta:\", resta)\n",
    "\n",
    "#Suma: [5 7 9]\n",
    "#Resta: [-3 -3 -3]"
   ]
  },
  {
   "cell_type": "markdown",
   "metadata": {},
   "source": [
    "Multiplicación y División: La multiplicación y división también se realizan elemento por elemento."
   ]
  },
  {
   "cell_type": "code",
   "execution_count": 10,
   "metadata": {},
   "outputs": [
    {
     "name": "stdout",
     "output_type": "stream",
     "text": [
      "Multiplicación: [ 4 10 18]\n",
      "División: [0.25 0.4  0.5 ]\n",
      "[1 2 3]\n",
      "[4 5 6]\n"
     ]
    }
   ],
   "source": [
    "multiplicacion = array1 * array2\n",
    "division = array1 / array2\n",
    "\n",
    "print(\"Multiplicación:\", multiplicacion)\n",
    "print(\"División:\", division)\n",
    "\n",
    "#Multiplicación: [ 4 10 18]\n",
    "#División: [0.25 0.4  0.5 ]\n",
    "\n",
    "print(array1)\n",
    "print(array2)"
   ]
  },
  {
   "cell_type": "markdown",
   "metadata": {},
   "source": [
    "Operaciones Universales (ufuncs): \n",
    "NumPy proporciona funciones universales (ufuncs) que realizan operaciones elemento por elemento."
   ]
  },
  {
   "cell_type": "code",
   "execution_count": 11,
   "metadata": {},
   "outputs": [
    {
     "name": "stdout",
     "output_type": "stream",
     "text": [
      "Raíz cuadrada: [1.         1.41421356 1.73205081]\n",
      "Logaritmo natural: [0.         0.69314718 1.09861229]\n"
     ]
    }
   ],
   "source": [
    "array = np.array([1, 2, 3])\n",
    "\n",
    "sqrt = np.sqrt(array)\n",
    "log = np.log(array)\n",
    "\n",
    "print(\"Raíz cuadrada:\", sqrt)\n",
    "print(\"Logaritmo natural:\", log)\n",
    "\n",
    "#Raíz cuadrada: [1.         1.41421356 1.73205081]\n",
    "#Logaritmo natural: [0.         0.69314718 1.09861229]"
   ]
  },
  {
   "cell_type": "markdown",
   "metadata": {},
   "source": [
    "ndexación y Slicing de Arrays\n",
    "La indexación y el slicing son técnicas para acceder a elementos específicos de un array.\n",
    "\n",
    "Indexación Básica:Puedes acceder a elementos individuales utilizando índices."
   ]
  },
  {
   "cell_type": "code",
   "execution_count": 12,
   "metadata": {},
   "outputs": [
    {
     "name": "stdout",
     "output_type": "stream",
     "text": [
      "1\n",
      "5\n"
     ]
    }
   ],
   "source": [
    "array = np.array([1, 2, 3, 4, 5])\n",
    "print(array[0])  # Primer elemento\n",
    "print(array[-1])  # Último elemento"
   ]
  },
  {
   "cell_type": "markdown",
   "metadata": {},
   "source": [
    "Slicing: Puedes acceder a subarrays utilizando la notación de slicing."
   ]
  },
  {
   "cell_type": "code",
   "execution_count": 13,
   "metadata": {},
   "outputs": [
    {
     "name": "stdout",
     "output_type": "stream",
     "text": [
      "[2 3 4]\n",
      "[1 2 3]\n",
      "[3 4 5]\n"
     ]
    }
   ],
   "source": [
    "array = np.array([1, 2, 3, 4, 5])\n",
    "print(array[1:4])  # Elementos del índice 1 al 3\n",
    "print(array[:3])  # Primeros tres elementos\n",
    "print(array[2:])  # Elementos desde el índice 2 hasta el final\n",
    "\n",
    "#[2 3 4]\n",
    "#[1 2 3]\n",
    "#[3 4 5]"
   ]
  },
  {
   "cell_type": "markdown",
   "metadata": {},
   "source": [
    "Indexación y Slicing en Arrays Multidimensionales: \n",
    "La indexación y el slicing funcionan de manera similar en arrays multidimensionales."
   ]
  },
  {
   "cell_type": "code",
   "execution_count": 14,
   "metadata": {},
   "outputs": [
    {
     "name": "stdout",
     "output_type": "stream",
     "text": [
      "6\n",
      "[[2 3]\n",
      " [5 6]]\n"
     ]
    }
   ],
   "source": [
    "array = np.array([[1, 2, 3], [4, 5, 6], [7, 8, 9]])\n",
    "print(array[1, 2])  # Elemento en la fila 1, columna 2\n",
    "print(array[0:2, 1:3])  # Subarray desde fila 0 a 1 y columna 1 a 2\n",
    "\n",
    "#6\n",
    "#[[2 3]\n",
    "#[5 6]]"
   ]
  },
  {
   "cell_type": "markdown",
   "metadata": {},
   "source": [
    "Agregaciones y Estadísticas\n",
    "NumPy proporciona funciones para realizar operaciones de agregación y calcular estadísticas básicas.\n",
    "\n",
    "Suma y Producto: Puedes calcular la suma y el producto de todos los elementos de un array."
   ]
  },
  {
   "cell_type": "code",
   "execution_count": 15,
   "metadata": {},
   "outputs": [
    {
     "name": "stdout",
     "output_type": "stream",
     "text": [
      "15\n",
      "120\n"
     ]
    }
   ],
   "source": [
    "array = np.array([1, 2, 3, 4, 5])\n",
    "print(np.sum(array))  # Suma de todos los elementos\n",
    "print(np.prod(array))  # Producto de todos los elementos\n",
    "\n",
    "# 15\n",
    "# 120"
   ]
  },
  {
   "cell_type": "markdown",
   "metadata": {},
   "source": [
    "Estadísticas Básicas: NumPy también proporciona funciones para calcular estadísticas básicas."
   ]
  },
  {
   "cell_type": "code",
   "execution_count": 16,
   "metadata": {},
   "outputs": [
    {
     "name": "stdout",
     "output_type": "stream",
     "text": [
      "3.0\n",
      "3.0\n",
      "1.4142135623730951\n",
      "2.0\n"
     ]
    }
   ],
   "source": [
    "print(np.mean(array))  # Media (promedio)\n",
    "print(np.median(array))  # Mediana\n",
    "print(np.std(array))  # Desviación estándar\n",
    "print(np.var(array))  # Varianza\n",
    "\n",
    "# 3.0\n",
    "# 3.0\n",
    "# 1.4142135623730951\n",
    "# 2.0"
   ]
  },
  {
   "cell_type": "markdown",
   "metadata": {},
   "source": [
    "Agregaciones en Arrays Multidimensionales: \n",
    "Puedes realizar agregaciones a lo largo de un eje específico en arrays multidimensionales."
   ]
  },
  {
   "cell_type": "code",
   "execution_count": 17,
   "metadata": {},
   "outputs": [
    {
     "name": "stdout",
     "output_type": "stream",
     "text": [
      "[12 15 18]\n",
      "[ 6 15 24]\n"
     ]
    }
   ],
   "source": [
    "array = np.array([[1, 2, 3], [4, 5, 6], [7, 8, 9]])\n",
    "print(np.sum(array, axis=0))  # Suma a lo largo de las columnas\n",
    "print(np.sum(array, axis=1))  # Suma a lo largo de las filas\n",
    "\n",
    "# [12 15 18]\n",
    "# [ 6 15 24]"
   ]
  }
 ],
 "metadata": {
  "kernelspec": {
   "display_name": "Python 3",
   "language": "python",
   "name": "python3"
  },
  "language_info": {
   "codemirror_mode": {
    "name": "ipython",
    "version": 3
   },
   "file_extension": ".py",
   "mimetype": "text/x-python",
   "name": "python",
   "nbconvert_exporter": "python",
   "pygments_lexer": "ipython3",
   "version": "3.12.6"
  }
 },
 "nbformat": 4,
 "nbformat_minor": 2
}
