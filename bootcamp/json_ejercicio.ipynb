{
 "cells": [
  {
   "cell_type": "code",
   "execution_count": 21,
   "metadata": {},
   "outputs": [],
   "source": [
    "import requests\n",
    "import pandas as pd\n",
    "import json\n",
    "import utils"
   ]
  },
  {
   "cell_type": "code",
   "execution_count": 22,
   "metadata": {},
   "outputs": [
    {
     "name": "stdout",
     "output_type": "stream",
     "text": [
      "<class 'list'>\n"
     ]
    },
    {
     "data": {
      "text/plain": [
       "{'id': 'bitcoin',\n",
       " 'symbol': 'btc',\n",
       " 'name': 'Bitcoin',\n",
       " 'image': 'https://coin-images.coingecko.com/coins/images/1/large/bitcoin.png?1696501400',\n",
       " 'current_price': 59669,\n",
       " 'market_cap': 1178962682841,\n",
       " 'market_cap_rank': 1,\n",
       " 'fully_diluted_valuation': 1252574012026,\n",
       " 'total_volume': 28543112690,\n",
       " 'high_24h': 61247,\n",
       " 'low_24h': 58935,\n",
       " 'price_change_24h': -820.1211686962706,\n",
       " 'price_change_percentage_24h': -1.35581,\n",
       " 'market_cap_change_24h': -14315981727.599854,\n",
       " 'market_cap_change_percentage_24h': -1.19972,\n",
       " 'circulating_supply': 19765871.0,\n",
       " 'total_supply': 21000000.0,\n",
       " 'max_supply': 21000000.0,\n",
       " 'ath': 73738,\n",
       " 'ath_change_percentage': -19.08665,\n",
       " 'ath_date': '2024-03-14T07:10:36.635Z',\n",
       " 'atl': 67.81,\n",
       " 'atl_change_percentage': 87888.07747,\n",
       " 'atl_date': '2013-07-06T00:00:00.000Z',\n",
       " 'roi': None,\n",
       " 'last_updated': '2024-10-10T21:07:25.540Z'}"
      ]
     },
     "execution_count": 22,
     "metadata": {},
     "output_type": "execute_result"
    }
   ],
   "source": [
    "# URL de la API pública\n",
    "api_url = \"https://api.coingecko.com/api/v3/coins/markets?vs_currency=usd&ids=bitcoin\"\n",
    "response = requests.get(api_url)\n",
    "print(type(response.json()))\n",
    "response.json()[0]"
   ]
  },
  {
   "cell_type": "code",
   "execution_count": 23,
   "metadata": {},
   "outputs": [],
   "source": [
    "# Función para consumir los datos de la API\n",
    "def fetch_data_from_api(api_url):\n",
    "    response = requests.get(api_url)\n",
    "    \n",
    "    if response.status_code == 200:\n",
    "        json_data = response.json()\n",
    "    else:\n",
    "        raise Exception(f\"Error en la API: {response.status_code}\")\n",
    "    \n",
    "    return json_data"
   ]
  },
  {
   "cell_type": "code",
   "execution_count": 24,
   "metadata": {},
   "outputs": [
    {
     "name": "stdout",
     "output_type": "stream",
     "text": [
      "<class 'list'>\n"
     ]
    },
    {
     "data": {
      "text/plain": [
       "[{'userId': 1,\n",
       "  'id': 1,\n",
       "  'title': 'sunt aut facere repellat provident occaecati excepturi optio reprehenderit',\n",
       "  'body': 'quia et suscipit\\nsuscipit recusandae consequuntur expedita et cum\\nreprehenderit molestiae ut ut quas totam\\nnostrum rerum est autem sunt rem eveniet architecto'},\n",
       " {'userId': 1,\n",
       "  'id': 2,\n",
       "  'title': 'qui est esse',\n",
       "  'body': 'est rerum tempore vitae\\nsequi sint nihil reprehenderit dolor beatae ea dolores neque\\nfugiat blanditiis voluptate porro vel nihil molestiae ut reiciendis\\nqui aperiam non debitis possimus qui neque nisi nulla'},\n",
       " {'userId': 1,\n",
       "  'id': 3,\n",
       "  'title': 'ea molestias quasi exercitationem repellat qui ipsa sit aut',\n",
       "  'body': 'et iusto sed quo iure\\nvoluptatem occaecati omnis eligendi aut ad\\nvoluptatem doloribus vel accusantium quis pariatur\\nmolestiae porro eius odio et labore et velit aut'},\n",
       " {'userId': 1,\n",
       "  'id': 4,\n",
       "  'title': 'eum et est occaecati',\n",
       "  'body': 'ullam et saepe reiciendis voluptatem adipisci\\nsit amet autem assumenda provident rerum culpa\\nquis hic commodi nesciunt rem tenetur doloremque ipsam iure\\nquis sunt voluptatem rerum illo velit'},\n",
       " {'userId': 1,\n",
       "  'id': 5,\n",
       "  'title': 'nesciunt quas odio',\n",
       "  'body': 'repudiandae veniam quaerat sunt sed\\nalias aut fugiat sit autem sed est\\nvoluptatem omnis possimus esse voluptatibus quis\\nest aut tenetur dolor neque'}]"
      ]
     },
     "execution_count": 24,
     "metadata": {},
     "output_type": "execute_result"
    }
   ],
   "source": [
    "import pandas as pd\n",
    "\n",
    "api_url = \"https://jsonplaceholder.typicode.com/posts\"\n",
    "# Consumir los datos de la API\n",
    "json_data = utils.fetch_data_from_api(api_url)\n",
    "print(type(json_data)) # json_data\n",
    "json_data[0:5]"
   ]
  },
  {
   "cell_type": "markdown",
   "metadata": {},
   "source": [
    "0. Transformar a dataframe\n",
    "1. Cantidad de filas y columnas\n",
    "2. Canitdad de usuarios distintos\n",
    "3. Cantidad id's por usuario"
   ]
  },
  {
   "cell_type": "code",
   "execution_count": 25,
   "metadata": {},
   "outputs": [
    {
     "name": "stdout",
     "output_type": "stream",
     "text": [
      "   userId  id                                              title  \\\n",
      "0       1   1  sunt aut facere repellat provident occaecati e...   \n",
      "1       1   2                                       qui est esse   \n",
      "2       1   3  ea molestias quasi exercitationem repellat qui...   \n",
      "3       1   4                               eum et est occaecati   \n",
      "4       1   5                                 nesciunt quas odio   \n",
      "\n",
      "                                                body  \n",
      "0  quia et suscipit\\nsuscipit recusandae consequu...  \n",
      "1  est rerum tempore vitae\\nsequi sint nihil repr...  \n",
      "2  et iusto sed quo iure\\nvoluptatem occaecati om...  \n",
      "3  ullam et saepe reiciendis voluptatem adipisci\\...  \n",
      "4  repudiandae veniam quaerat sunt sed\\nalias aut...  \n",
      "Número de filas: 100, Número de columnas: 4\n",
      "Número de usuarios distintos: 10\n",
      "userId\n",
      "1     10\n",
      "2     10\n",
      "3     10\n",
      "4     10\n",
      "5     10\n",
      "6     10\n",
      "7     10\n",
      "8     10\n",
      "9     10\n",
      "10    10\n",
      "dtype: int64\n"
     ]
    }
   ],
   "source": [
    "\n",
    "api_url = \"https://jsonplaceholder.typicode.com/posts\"\n",
    "# Consumir los datos de la API\n",
    "json_data = utils.fetch_data_from_api(api_url)\n",
    "\n",
    "# Convertir los datos JSON a un DataFrame de pandas\n",
    "df = pd.DataFrame(json_data)\n",
    "\n",
    "print(df.head())        # Mostrar las primeras 5 filas del DataFrame\n",
    "\n",
    "# Cantidad de filas y columnas\n",
    "num_filas, num_columnas = df.shape\n",
    "print(f\"Número de filas: {num_filas}, Número de columnas: {num_columnas}\")\n",
    "\n",
    "# Cantidad de usuarios distintos\n",
    "num_usuarios_distintos = df['userId'].nunique()  # Asegúrate de que 'userId' existe en el DataFrame\n",
    "print(f\"Número de usuarios distintos: {num_usuarios_distintos}\")\n",
    "\n",
    "# Cantidad de IDs por usuario\n",
    "cantidad_ids_por_usuario = df.groupby('userId').size()  # O df['userId'].value_counts()\n",
    "print(cantidad_ids_por_usuario)\n",
    "\n"
   ]
  },
  {
   "cell_type": "markdown",
   "metadata": {},
   "source": [
    "Completo "
   ]
  },
  {
   "cell_type": "code",
   "execution_count": 26,
   "metadata": {},
   "outputs": [
    {
     "name": "stdout",
     "output_type": "stream",
     "text": [
      "Número de filas: 100, Número de columnas: 4\n",
      "Número de usuarios distintos: 10\n",
      "userId\n",
      "1     10\n",
      "2     10\n",
      "3     10\n",
      "4     10\n",
      "5     10\n",
      "6     10\n",
      "7     10\n",
      "8     10\n",
      "9     10\n",
      "10    10\n",
      "dtype: int64\n",
      "   userId  id                                              title  \\\n",
      "0       1   1  sunt aut facere repellat provident occaecati e...   \n",
      "1       1   2                                       qui est esse   \n",
      "2       1   3  ea molestias quasi exercitationem repellat qui...   \n",
      "3       1   4                               eum et est occaecati   \n",
      "4       1   5                                 nesciunt quas odio   \n",
      "5       1   6                 dolorem eum magni eos aperiam quia   \n",
      "6       1   7                               magnam facilis autem   \n",
      "7       1   8                           dolorem dolore est ipsam   \n",
      "8       1   9  nesciunt iure omnis dolorem tempora et accusan...   \n",
      "9       1  10                        optio molestias id quia eum   \n",
      "\n",
      "                                                body  \n",
      "0  quia et suscipit\\nsuscipit recusandae consequu...  \n",
      "1  est rerum tempore vitae\\nsequi sint nihil repr...  \n",
      "2  et iusto sed quo iure\\nvoluptatem occaecati om...  \n",
      "3  ullam et saepe reiciendis voluptatem adipisci\\...  \n",
      "4  repudiandae veniam quaerat sunt sed\\nalias aut...  \n",
      "5  ut aspernatur corporis harum nihil quis provid...  \n",
      "6  dolore placeat quibusdam ea quo vitae\\nmagni q...  \n",
      "7  dignissimos aperiam dolorem qui eum\\nfacilis q...  \n",
      "8  consectetur animi nesciunt iure dolore\\nenim q...  \n",
      "9  quo et expedita modi cum officia vel magni\\ndo...  \n"
     ]
    }
   ],
   "source": [
    "\n",
    "api_url = \"https://jsonplaceholder.typicode.com/posts\"\n",
    "json_data = utils.fetch_data_from_api(api_url)\n",
    "\n",
    "# Transformar a DataFrame\n",
    "df = pd.DataFrame(json_data)\n",
    "\n",
    "# 1. Cantidad de filas y columnas\n",
    "num_filas, num_columnas = df.shape\n",
    "print(f\"Número de filas: {num_filas}, Número de columnas: {num_columnas}\")\n",
    "\n",
    "# 2. Cantidad de usuarios distintos (suponiendo que existe 'userId')\n",
    "num_usuarios_distintos = df['userId'].nunique()\n",
    "print(f\"Número de usuarios distintos: {num_usuarios_distintos}\")\n",
    "\n",
    "# 3. Cantidad de IDs por usuario\n",
    "cantidad_ids_por_usuario = df.groupby('userId').size()\n",
    "print(cantidad_ids_por_usuario)\n",
    "\n",
    "print(df.head(10))        # Mostrar las primeras 5 filas del DataFrame\n"
   ]
  }
 ],
 "metadata": {
  "kernelspec": {
   "display_name": "Python 3",
   "language": "python",
   "name": "python3"
  },
  "language_info": {
   "codemirror_mode": {
    "name": "ipython",
    "version": 3
   },
   "file_extension": ".py",
   "mimetype": "text/x-python",
   "name": "python",
   "nbconvert_exporter": "python",
   "pygments_lexer": "ipython3",
   "version": "3.12.6"
  }
 },
 "nbformat": 4,
 "nbformat_minor": 2
}
