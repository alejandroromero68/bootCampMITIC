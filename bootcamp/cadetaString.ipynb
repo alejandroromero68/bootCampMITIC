{
 "cells": [
  {
   "cell_type": "code",
   "execution_count": null,
   "metadata": {},
   "outputs": [],
   "source": [
    "frase = \"hola, soMos el mejor cursó de de Data-Science de Coding_Dojo. yahoo!!!\"\n",
    "frase_final = \"hola, somos el mejor curso de Data Science de Coding Dojo\""
   ]
  }
 ],
 "metadata": {
  "language_info": {
   "name": "python"
  }
 },
 "nbformat": 4,
 "nbformat_minor": 2
}
