{
 "cells": [
  {
   "cell_type": "markdown",
   "metadata": {},
   "source": [
    "Introducción a Pandas\n",
    "\n",
    "¿Qué es Pandas?\n",
    "Pandas es una biblioteca de código abierto de Python que proporciona estructuras de datos de alto rendimiento y herramientas de análisis de datos fáciles de usar. Su nombre es una combinación de «panel data» y «Python data analysis library». Pandas es ideal para trabajar con datos tabulares y series temporales.\n",
    "\n",
    " \n",
    "\n",
    "Instalación y Configuración\n",
    "\n",
    "Si no tienes Pandas instalado, puedes instalarlo utilizando pip:\n",
    "\n",
    "pip install pandas\n",
    "\n",
    "\n",
    "import pandas as pd\n",
    "Asegúrate de importar Pandas en tu entorno de trabajo para empezar a usar sus funcionalidades.\n",
    "\n",
    " \n"
   ]
  },
  {
   "cell_type": "markdown",
   "metadata": {},
   "source": [
    "Estructuras de Datos en Pandas\n",
    "\n",
    "Pandas introduce dos estructuras de datos principales: Series y DataFrames.\n",
    "\n",
    "Series: Una Serie es una estructura de datos unidimensional que puede contener cualquier tipo de datos. Es similar a un array de NumPy, pero con etiquetas de índice que permiten un acceso más conveniente a los datos.\n",
    "\n",
    "Creación de una Serie: Puedes crear una Serie a partir de una lista, un array de NumPy, un diccionario o un valor escalar."
   ]
  },
  {
   "cell_type": "code",
   "execution_count": null,
   "metadata": {},
   "outputs": [],
   "source": [
    "import pandas as pd\n",
    "\n",
    "# Creando una Serie a partir de una lista\n",
    "lista = [1, 2, 3, 4, 5]\n",
    "serie = pd.Series(lista)\n",
    "print(serie)\n",
    "\n",
    "# Creando una Serie a partir de un diccionario\n",
    "diccionario = {'a': 10, 'b': 20, 'c': 30}\n",
    "serie_dicc = pd.Series(diccionario)\n",
    "print(serie_dicc)\n",
    "\n",
    "# Creando una Serie a partir de un valor escalar\n",
    "valor_escalar = 5\n",
    "serie_escalar = pd.Series(valor_escalar, index=['x', 'y', 'z'])\n",
    "\n",
    "print(serie_escalar)"
   ]
  },
  {
   "cell_type": "markdown",
   "metadata": {},
   "source": [
    "Acceso a los Elementos de una Serie: \n",
    "\n",
    "Puedes acceder a los elementos de una Serie utilizando índices."
   ]
  },
  {
   "cell_type": "code",
   "execution_count": null,
   "metadata": {},
   "outputs": [],
   "source": [
    "# Acceso por índice\n",
    "print(serie[0])  # Primer elemento\n",
    "\n",
    "# Acceso por etiqueta\n",
    "print(serie_dicc['a'])  # Elemento con etiqueta 'a'"
   ]
  },
  {
   "cell_type": "markdown",
   "metadata": {},
   "source": [
    "Métodos y Operaciones en Series: \n",
    "\n",
    "Las Series tienen una variedad de métodos útiles para realizar operaciones como suma, resta, multiplicación y división."
   ]
  },
  {
   "cell_type": "code",
   "execution_count": null,
   "metadata": {},
   "outputs": [],
   "source": [
    "import pandas as pd\n",
    "\n",
    "# Creando una Serie a partir de una lista\n",
    "lista = [1, 2, 3, 4, 5]\n",
    "serie = pd.Series(lista)\n",
    "\n",
    "# Realizando operaciones con la serie creada\n",
    "print(\"Serie original:\")\n",
    "print(serie)\n",
    "\n",
    "# Suma de 10 a cada valor\n",
    "print(\"\\nSuma de 10 a cada valor:\")\n",
    "print(serie + 10)\n",
    "\n",
    "# Multiplicación por 2\n",
    "print(\"\\nMultiplicación por 2:\")\n",
    "print(serie * 2)\n",
    "\n",
    "# Resta de 1 a cada valor\n",
    "print(\"\\nResta de 1 a cada valor:\")\n",
    "print(serie - 1)\n",
    "\n",
    "# División por 2\n",
    "print(\"\\nDivisión por 2:\")\n",
    "print(serie / 2)\n"
   ]
  },
  {
   "cell_type": "markdown",
   "metadata": {},
   "source": [
    "DataFrame: \n",
    "\n",
    "Un DataFrame es una estructura de datos bidimensional, similar a una tabla en una base de datos o una hoja de cálculo. Un DataFrame tiene ejes etiquetados (filas y columnas) y puede contener diferentes tipos de datos (numéricos, cadenas, etc.).\n",
    "\n",
    "Creación de un DataFrame: \n",
    "\n",
    "Puedes crear un DataFrame a partir de un diccionario de listas, un array de NumPy, una lista de diccionarios o una Serie de Pandas."
   ]
  },
  {
   "cell_type": "code",
   "execution_count": null,
   "metadata": {},
   "outputs": [],
   "source": [
    "import pandas as pd\n",
    "\n",
    "# Creando un DataFrame a partir de un diccionario de listas\n",
    "data = {\n",
    "    'Producto': ['Manzanas', 'Naranjas', 'Bananas'],\n",
    "    'Ventas': [50, 30, 20]\n",
    "}\n",
    "df = pd.DataFrame(data)\n",
    "print(df)\n",
    "\n",
    "# Creando un DataFrame a partir de un array de NumPy\n",
    "import numpy as np\n",
    "\n",
    "array = np.array([[1, 2, 3], [4, 5, 6], [7, 8, 9]])\n",
    "df_array = pd.DataFrame(array, columns=['A', 'B', 'C'])\n",
    "print(df_array)\n",
    "\n",
    "# Creando un DataFrame a partir de una lista de diccionarios\n",
    "lista_dicc = [\n",
    "    {'Producto': 'Manzanas', 'Ventas': 50},\n",
    "    {'Producto': 'Naranjas', 'Ventas': 30},\n",
    "    {'Producto': 'Bananas', 'Ventas': 20}\n",
    "]\n",
    "df_lista_dicc = pd.DataFrame(lista_dicc)\n",
    "print(df_lista_dicc)"
   ]
  },
  {
   "cell_type": "markdown",
   "metadata": {},
   "source": [
    "Acceso a los Elementos de un DataFrame: \n",
    "\n",
    "Puedes acceder a los datos de un DataFrame de varias maneras, incluyendo la notación de corchetes, el método .loc y el método .iloc."
   ]
  },
  {
   "cell_type": "code",
   "execution_count": 10,
   "metadata": {},
   "outputs": [
    {
     "name": "stdout",
     "output_type": "stream",
     "text": [
      "0    Manzanas\n",
      "1    Naranjas\n",
      "2     Bananas\n",
      "Name: Producto, dtype: object\n",
      "   Producto  Ventas\n",
      "0  Manzanas      50\n",
      "1  Naranjas      30\n",
      "2   Bananas      20\n",
      "Producto    Manzanas\n",
      "Ventas            50\n",
      "Name: 0, dtype: object\n",
      "Producto    Naranjas\n",
      "Ventas            30\n",
      "Name: 1, dtype: object\n",
      "Manzanas\n",
      "30\n"
     ]
    }
   ],
   "source": [
    "# Acceso a columnas\n",
    "print(df['Producto'])  # Acceder a una columna\n",
    "print(df[['Producto', 'Ventas']])  # Acceder a múltiples columnas\n",
    "\n",
    "# Acceso a filas por índice\n",
    "print(df.loc[0])  # Primera fila\n",
    "print(df.iloc[1])  # Segunda fila\n",
    "\n",
    "# Acceso a un elemento específico\n",
    "print(df.loc[0, 'Producto'])  # Primera fila, columna 'Producto'\n",
    "print(df.iloc[1, 1])  # Segunda fila, segunda columna"
   ]
  },
  {
   "cell_type": "markdown",
   "metadata": {},
   "source": [
    "Métodos y Operaciones en DataFrames: \n",
    "\n",
    "Los DataFrames tienen muchos métodos útiles para realizar operaciones como agregar filas, eliminar columnas, filtrar datos y más."
   ]
  },
  {
   "cell_type": "code",
   "execution_count": 11,
   "metadata": {},
   "outputs": [
    {
     "name": "stdout",
     "output_type": "stream",
     "text": [
      "   Producto  Ventas  Precio\n",
      "0  Manzanas      50    0.50\n",
      "1  Naranjas      30    0.75\n",
      "2   Bananas      20    0.30\n",
      "   Producto  Ventas\n",
      "0  Manzanas      50\n",
      "1  Naranjas      30\n",
      "2   Bananas      20\n",
      "   Producto  Ventas\n",
      "0  Manzanas      50\n",
      "1  Naranjas      30\n"
     ]
    }
   ],
   "source": [
    "# Agregar una nueva columna\n",
    "df['Precio'] = [0.5, 0.75, 0.3]\n",
    "print(df)\n",
    "\n",
    "# Eliminar una columna\n",
    "df = df.drop('Precio', axis=1)\n",
    "print(df)\n",
    "\n",
    "# Filtrar datos\n",
    "filtro = df['Ventas'] > 20\n",
    "df_filtrado = df[filtro]\n",
    "print(df_filtrado)"
   ]
  }
 ],
 "metadata": {
  "kernelspec": {
   "display_name": "Python 3",
   "language": "python",
   "name": "python3"
  },
  "language_info": {
   "codemirror_mode": {
    "name": "ipython",
    "version": 3
   },
   "file_extension": ".py",
   "mimetype": "text/x-python",
   "name": "python",
   "nbconvert_exporter": "python",
   "pygments_lexer": "ipython3",
   "version": "3.12.7"
  }
 },
 "nbformat": 4,
 "nbformat_minor": 2
}
