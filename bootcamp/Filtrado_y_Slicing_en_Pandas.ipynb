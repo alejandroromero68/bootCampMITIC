{
 "cells": [
  {
   "cell_type": "code",
   "execution_count": 2,
   "metadata": {},
   "outputs": [
    {
     "name": "stdout",
     "output_type": "stream",
     "text": [
      "<class 'pandas.core.frame.DataFrame'>\n",
      "RangeIndex: 891 entries, 0 to 890\n",
      "Data columns (total 15 columns):\n",
      " #   Column       Non-Null Count  Dtype   \n",
      "---  ------       --------------  -----   \n",
      " 0   survived     891 non-null    int64   \n",
      " 1   pclass       891 non-null    int64   \n",
      " 2   sex          891 non-null    object  \n",
      " 3   age          714 non-null    float64 \n",
      " 4   sibsp        891 non-null    int64   \n",
      " 5   parch        891 non-null    int64   \n",
      " 6   fare         891 non-null    float64 \n",
      " 7   embarked     889 non-null    object  \n",
      " 8   class        891 non-null    category\n",
      " 9   who          891 non-null    object  \n",
      " 10  adult_male   891 non-null    bool    \n",
      " 11  deck         203 non-null    category\n",
      " 12  embark_town  889 non-null    object  \n",
      " 13  alive        891 non-null    object  \n",
      " 14  alone        891 non-null    bool    \n",
      "dtypes: bool(2), category(2), float64(2), int64(4), object(5)\n",
      "memory usage: 80.7+ KB\n",
      "None\n"
     ]
    }
   ],
   "source": [
    "import pandas as pd\n",
    "import seaborn as sns\n",
    "import matplotlib.pyplot as plt\n",
    "\n"
   ]
  },
  {
   "cell_type": "code",
   "execution_count": 3,
   "metadata": {},
   "outputs": [
    {
     "name": "stdout",
     "output_type": "stream",
     "text": [
      "<class 'pandas.core.frame.DataFrame'>\n",
      "RangeIndex: 891 entries, 0 to 890\n",
      "Data columns (total 15 columns):\n",
      " #   Column       Non-Null Count  Dtype   \n",
      "---  ------       --------------  -----   \n",
      " 0   survived     891 non-null    int64   \n",
      " 1   pclass       891 non-null    int64   \n",
      " 2   sex          891 non-null    object  \n",
      " 3   age          714 non-null    float64 \n",
      " 4   sibsp        891 non-null    int64   \n",
      " 5   parch        891 non-null    int64   \n",
      " 6   fare         891 non-null    float64 \n",
      " 7   embarked     889 non-null    object  \n",
      " 8   class        891 non-null    category\n",
      " 9   who          891 non-null    object  \n",
      " 10  adult_male   891 non-null    bool    \n",
      " 11  deck         203 non-null    category\n",
      " 12  embark_town  889 non-null    object  \n",
      " 13  alive        891 non-null    object  \n",
      " 14  alone        891 non-null    bool    \n",
      "dtypes: bool(2), category(2), float64(2), int64(4), object(5)\n",
      "memory usage: 80.7+ KB\n",
      "None\n"
     ]
    }
   ],
   "source": [
    "# Cargar dataset de ejemplo\n",
    "tips = sns.load_dataset(\"titanic\")\n",
    "print(tips.info())\n",
    "\n",
    "# Crear un gráfico de dispersión con Seaborn\n",
    "#sns.scatterplot(x=\"total_bill\", y=\"tip\", data=tips)\n",
    "\n",
    "# Mostrar el gráfico\n",
    "#plt.show()\n"
   ]
  },
  {
   "cell_type": "markdown",
   "metadata": {},
   "source": []
  },
  {
   "cell_type": "markdown",
   "metadata": {},
   "source": [
    "Filtrado y Slicing en Pandas"
   ]
  },
  {
   "cell_type": "markdown",
   "metadata": {},
   "source": [
    "Filtrado de Datos en Pandas\n",
    "\n",
    "Filtrado con Condiciones Simples: \n",
    "\n",
    "Pandas permite filtrar filas de un DataFrame utilizando condiciones simples. Para filtrar un DataFrame basado en una condición, puedes usar la notación de corchetes [] con una expresión booleana."
   ]
  },
  {
   "cell_type": "code",
   "execution_count": 4,
   "metadata": {},
   "outputs": [
    {
     "name": "stdout",
     "output_type": "stream",
     "text": [
      "   Producto  Ventas  Precio\n",
      "0  Manzanas      50    0.50\n",
      "1  Naranjas      30    0.75\n",
      "3     Peras      60    0.40\n"
     ]
    }
   ],
   "source": [
    "import pandas as pd\n",
    "\n",
    "# Crear un DataFrame de ejemplo\n",
    "data = {\n",
    "    'Producto': ['Manzanas', 'Naranjas', 'Bananas', 'Peras'],\n",
    "    'Ventas': [50, 30, 20, 60],\n",
    "    'Precio': [0.5, 0.75, 0.3, 0.4]\n",
    "}\n",
    "df = pd.DataFrame(data)\n",
    "\n",
    "# Filtrar filas donde las ventas son mayores a 25\n",
    "ventas_mayores_25 = df[df['Ventas'] > 25]\n",
    "print(ventas_mayores_25)"
   ]
  },
  {
   "cell_type": "markdown",
   "metadata": {},
   "source": [
    "Filtrado con Condiciones Múltiples: \n",
    "  \n",
    "  Para aplicar múltiples condiciones de filtrado, puedes usar operadores lógicos como & (y), | (o) y ~ (no). Es importante usar paréntesis alrededor de cada condición para asegurar que las operaciones lógicas se evalúen correctamente."
   ]
  },
  {
   "cell_type": "code",
   "execution_count": 5,
   "metadata": {},
   "outputs": [
    {
     "name": "stdout",
     "output_type": "stream",
     "text": [
      "  Producto  Ventas  Precio\n",
      "3    Peras      60     0.4\n"
     ]
    }
   ],
   "source": [
    "# Filtrar filas donde las ventas son mayores a 25 y el precio es menor a 0.5\n",
    "ventas_mayores_25_precio_menor_05 = df[(df['Ventas'] > 25) & (df['Precio'] < 0.5)]\n",
    "print(ventas_mayores_25_precio_menor_05)"
   ]
  },
  {
   "cell_type": "markdown",
   "metadata": {},
   "source": [
    "Filtrado con el Método query(): \n",
    "\n",
    "El método query() permite filtrar un DataFrame utilizando una cadena de texto con condiciones. Este método puede ser más legible y conveniente para condiciones complejas."
   ]
  },
  {
   "cell_type": "code",
   "execution_count": 6,
   "metadata": {},
   "outputs": [
    {
     "name": "stdout",
     "output_type": "stream",
     "text": [
      "  Producto  Ventas  Precio\n",
      "3    Peras      60     0.4\n"
     ]
    }
   ],
   "source": [
    "# Filtrar filas utilizando el método query\n",
    "query_result = df.query('Ventas > 25 & Precio < 0.5')\n",
    "print(query_result)"
   ]
  },
  {
   "cell_type": "markdown",
   "metadata": {},
   "source": [
    "Filtrado Basado en Índices: \n",
    "\n",
    "También puedes filtrar un DataFrame utilizando sus índices. Pandas permite seleccionar filas específicas utilizando el índice del DataFrame."
   ]
  },
  {
   "cell_type": "code",
   "execution_count": 7,
   "metadata": {},
   "outputs": [
    {
     "name": "stdout",
     "output_type": "stream",
     "text": [
      "Ventas    50.0\n",
      "Precio     0.5\n",
      "Name: Manzanas, dtype: float64\n"
     ]
    }
   ],
   "source": [
    "# Filtrar filas utilizando el índice\n",
    "df_indexed = df.set_index('Producto')\n",
    "ventas_manzanas = df_indexed.loc['Manzanas']\n",
    "print(ventas_manzanas)"
   ]
  },
  {
   "cell_type": "markdown",
   "metadata": {},
   "source": [
    "Filtrado Basado en Valores Únicos: \n",
    "\n",
    "Pandas proporciona métodos para filtrar filas basadas en valores únicos en una columna. Esto puede ser útil para seleccionar todas las filas que contienen ciertos valores específicos."
   ]
  },
  {
   "cell_type": "code",
   "execution_count": 8,
   "metadata": {},
   "outputs": [
    {
     "name": "stdout",
     "output_type": "stream",
     "text": [
      "   Producto  Ventas  Precio\n",
      "0  Manzanas      50     0.5\n",
      "2   Bananas      20     0.3\n"
     ]
    }
   ],
   "source": [
    "# Filtrar filas donde el producto es 'Manzanas' o 'Bananas'\n",
    "ventas_manzanas_bananas = df[df['Producto'].isin(['Manzanas', 'Bananas'])]\n",
    "print(ventas_manzanas_bananas)"
   ]
  },
  {
   "cell_type": "markdown",
   "metadata": {},
   "source": [
    "Slicing en Pandas\n",
    "\n",
    "Slicing de Filas y Columnas: \n",
    "\n",
    "Pandas permite seleccionar subconjuntos de filas y columnas utilizando slicing. Esto es similar a la notación de slicing en listas de Python, pero se aplica a DataFrames."
   ]
  },
  {
   "cell_type": "code",
   "execution_count": 9,
   "metadata": {},
   "outputs": [
    {
     "name": "stdout",
     "output_type": "stream",
     "text": [
      "   Producto  Ventas  Precio\n",
      "1  Naranjas      30    0.75\n",
      "2   Bananas      20    0.30\n",
      "   Producto  Ventas\n",
      "0  Manzanas      50\n",
      "1  Naranjas      30\n",
      "2   Bananas      20\n",
      "3     Peras      60\n"
     ]
    }
   ],
   "source": [
    "# Seleccionar filas de la 1 a la 3\n",
    "sliced_rows = df[1:3]\n",
    "print(sliced_rows)\n",
    "\n",
    "# Seleccionar columnas por nombre\n",
    "sliced_columns = df[['Producto', 'Ventas']]\n",
    "print(sliced_columns)"
   ]
  },
  {
   "cell_type": "markdown",
   "metadata": {},
   "source": [
    "Slicing con loc[]:\n",
    "\n",
    "El método loc[] se utiliza para seleccionar datos basados en etiquetas de fila y columna. Puedes especificar etiquetas de fila y columna para obtener subconjuntos específicos de datos."
   ]
  },
  {
   "cell_type": "code",
   "execution_count": 10,
   "metadata": {},
   "outputs": [
    {
     "name": "stdout",
     "output_type": "stream",
     "text": [
      "   Producto  Ventas\n",
      "0  Manzanas      50\n",
      "1  Naranjas      30\n",
      "2   Bananas      20\n"
     ]
    }
   ],
   "source": [
    "# Seleccionar filas y columnas específicas con loc\n",
    "loc_result = df.loc[0:2, ['Producto', 'Ventas']]\n",
    "print(loc_result)"
   ]
  },
  {
   "cell_type": "markdown",
   "metadata": {},
   "source": [
    "Slicing con iloc[]: \n",
    "\n",
    "El método iloc[] se utiliza para seleccionar datos basados en posiciones de fila y columna. Puedes especificar índices de fila y columna para obtener subconjuntos específicos de datos."
   ]
  },
  {
   "cell_type": "code",
   "execution_count": 11,
   "metadata": {},
   "outputs": [
    {
     "name": "stdout",
     "output_type": "stream",
     "text": [
      "   Producto  Ventas\n",
      "0  Manzanas      50\n",
      "1  Naranjas      30\n",
      "2   Bananas      20\n"
     ]
    }
   ],
   "source": [
    "# Seleccionar filas y columnas específicas con iloc\n",
    "iloc_result = df.iloc[0:3, 0:2]\n",
    "print(iloc_result)"
   ]
  },
  {
   "cell_type": "markdown",
   "metadata": {},
   "source": [
    "Combinación de Filtrado y Slicing\n",
    "\n",
    "Filtrado y Slicing Simultáneos:\n",
    "\n",
    " Puedes combinar técnicas de filtrado y slicing para seleccionar subconjuntos específicos de datos. Esto permite aplicar condiciones de filtrado y seleccionar filas y columnas específicas al mismo tiempo."
   ]
  },
  {
   "cell_type": "code",
   "execution_count": 12,
   "metadata": {},
   "outputs": [
    {
     "name": "stdout",
     "output_type": "stream",
     "text": [
      "   Producto  Ventas\n",
      "0  Manzanas      50\n",
      "1  Naranjas      30\n",
      "3     Peras      60\n"
     ]
    }
   ],
   "source": [
    "# Filtrar y luego hacer slicing de columnas\n",
    "filtered_sliced = df[df['Ventas'] > 25].loc[:, ['Producto', 'Ventas']]\n",
    "print(filtered_sliced)"
   ]
  }
 ],
 "metadata": {
  "kernelspec": {
   "display_name": "base",
   "language": "python",
   "name": "python3"
  },
  "language_info": {
   "codemirror_mode": {
    "name": "ipython",
    "version": 3
   },
   "file_extension": ".py",
   "mimetype": "text/x-python",
   "name": "python",
   "nbconvert_exporter": "python",
   "pygments_lexer": "ipython3",
   "version": "3.12.4"
  }
 },
 "nbformat": 4,
 "nbformat_minor": 2
}
