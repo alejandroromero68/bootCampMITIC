{
 "cells": [
  {
   "cell_type": "markdown",
   "metadata": {},
   "source": [
    "Ejercicio 1: Gestión de Inventario\n",
    "\n",
    "Crea un diccionario para gestionar el inventario de una tienda. Las claves del diccionario deben ser los nombres de los productos y los valores deben ser la cantidad de cada producto en inventario.\n",
    "Usa un bucle for para mostrar todos los productos y sus cantidades.\n",
    "Actualiza la cantidad de un producto específico.\n",
    "Agrega un nuevo producto al inventario.\n",
    "Elimina un producto del inventario."
   ]
  },
  {
   "cell_type": "code",
   "execution_count": 3,
   "metadata": {},
   "outputs": [
    {
     "name": "stdout",
     "output_type": "stream",
     "text": [
      "manzanas: 50\n",
      "naranjas: 30\n",
      "bananas: 20\n",
      "peras: 15\n",
      "----------------------------------\n",
      "nInventario actualizado:\n",
      "manzanas: 50\n",
      "naranjas: 25\n",
      "bananas: 20\n",
      "uvas: 40\n"
     ]
    }
   ],
   "source": [
    "# Creación del diccionario de inventario\n",
    "inventario = {\n",
    "    \"manzanas\": 50,\n",
    "    \"naranjas\": 30,\n",
    "    \"bananas\": 20,\n",
    "    \"peras\": 15\n",
    "}\n",
    "\n",
    "# Mostrar todos los productos y sus cantidades\n",
    "for producto, cantidad in inventario.items():\n",
    "    print(f\"{producto}: {cantidad}\")\n",
    "\n",
    "# Actualizar la cantidad de un producto específico\n",
    "inventario[\"naranjas\"] = 25\n",
    "\n",
    "# Agregar un nuevo producto al inventario\n",
    "inventario[\"uvas\"] = 40\n",
    "\n",
    "# Eliminar un producto del inventario\n",
    "del inventario[\"peras\"]\n",
    "print(\"----------------------------------\")\n",
    "# Mostrar el inventario actualizado\n",
    "print(\"nInventario actualizado:\")\n",
    "for producto, cantidad in inventario.items():\n",
    "    print(f\"{producto}: {cantidad}\")"
   ]
  },
  {
   "cell_type": "markdown",
   "metadata": {},
   "source": [
    "Ejercicio 2: Procesamiento de Datos de Estudiantes\n",
    "\n",
    "Crea una lista de tuplas donde cada tupla contenga el nombre de un estudiante y su calificación en un examen.\n",
    "Usa un bucle for para mostrar todos los nombres y calificaciones.\n",
    "Calcula y muestra la calificación promedio.\n",
    "Encuentra y muestra la calificación más alta y la más baja."
   ]
  },
  {
   "cell_type": "code",
   "execution_count": 4,
   "metadata": {},
   "outputs": [
    {
     "name": "stdout",
     "output_type": "stream",
     "text": [
      "Juan: 85\n",
      "María: 92\n",
      "Pedro: 78\n",
      "Ana: 89\n",
      "Luis: 95\n",
      "nCalificación promedio: 87.80\n",
      "Calificación más alta: 95\n",
      "Calificación más baja: 78\n"
     ]
    }
   ],
   "source": [
    "# Creación de la lista de tuplas con nombres y calificaciones\n",
    "estudiantes = [(\"Juan\", 85), (\"María\", 92), (\"Pedro\", 78), (\"Ana\", 89), (\"Luis\", 95)]\n",
    "\n",
    "# Mostrar todos los nombres y calificaciones\n",
    "for nombre, calificacion in estudiantes:\n",
    "    print(f\"{nombre}: {calificacion}\")\n",
    "\n",
    "# Calcular la calificación promedio\n",
    "suma_calificaciones = sum(calificacion for nombre, calificacion in estudiantes)\n",
    "promedio = suma_calificaciones / len(estudiantes)\n",
    "print(f\"nCalificación promedio: {promedio:.2f}\")\n",
    "\n",
    "# Encontrar la calificación más alta y más baja\n",
    "calificaciones = [calificacion for nombre, calificacion in estudiantes]\n",
    "calificacion_maxima = max(calificaciones)\n",
    "calificacion_minima = min(calificaciones)\n",
    "print(f\"Calificación más alta: {calificacion_maxima}\")\n",
    "print(f\"Calificación más baja: {calificacion_minima}\")"
   ]
  },
  {
   "cell_type": "markdown",
   "metadata": {},
   "source": [
    "Ejercicio 3: Registro de Ventas\n",
    "\n",
    "Crea un diccionario donde las claves sean los nombres de los vendedores y los valores sean listas de ventas realizadas por cada vendedor en una semana.\n",
    "Usa un bucle for para mostrar el total de ventas de cada vendedor.\n",
    "Calcula y muestra el vendedor con el mayor total de ventas."
   ]
  },
  {
   "cell_type": "code",
   "execution_count": 5,
   "metadata": {},
   "outputs": [
    {
     "name": "stdout",
     "output_type": "stream",
     "text": [
      "Carlos: 1750\n",
      "María: 2350\n",
      "Luis: 2100\n",
      "Ana: 3150\n",
      "nVendedor con el mayor total de ventas: Ana con 3150 ventas\n"
     ]
    }
   ],
   "source": [
    "# Creación del diccionario de ventas\n",
    "ventas = {\n",
    "    \"Carlos\": [100, 200, 150, 300, 250, 400, 350],\n",
    "    \"María\": [200, 300, 250, 350, 300, 450, 500],\n",
    "    \"Luis\": [150, 250, 200, 300, 350, 400, 450],\n",
    "    \"Ana\": [300, 350, 400, 450, 500, 550, 600]\n",
    "}\n",
    "\n",
    "# Mostrar el total de ventas de cada vendedor\n",
    "for vendedor, lista_ventas in ventas.items():\n",
    "    total_ventas = sum(lista_ventas)\n",
    "    print(f\"{vendedor}: {total_ventas}\")\n",
    "\n",
    "# Calcular y mostrar el vendedor con el mayor total de ventas\n",
    "ventas_totales = {vendedor: sum(lista_ventas) for vendedor, lista_ventas in ventas.items()}\n",
    "vendedor_maximo = max(ventas_totales, key=ventas_totales.get)\n",
    "print(f\"nVendedor con el mayor total de ventas: {vendedor_maximo} con {ventas_totales[vendedor_maximo]} ventas\")"
   ]
  }
 ],
 "metadata": {
  "kernelspec": {
   "display_name": "Python 3",
   "language": "python",
   "name": "python3"
  },
  "language_info": {
   "codemirror_mode": {
    "name": "ipython",
    "version": 3
   },
   "file_extension": ".py",
   "mimetype": "text/x-python",
   "name": "python",
   "nbconvert_exporter": "python",
   "pygments_lexer": "ipython3",
   "version": "3.12.6"
  }
 },
 "nbformat": 4,
 "nbformat_minor": 2
}
