{
 "cells": [
  {
   "cell_type": "markdown",
   "metadata": {},
   "source": [
    "Matemáticas Mágicas y Lógica Inquebrantable: Explorando Operaciones Básicas, Booleanos y Condicionales en Python\n",
    "\n",
    "Operaciones Matemáticas Básicas en Python\n",
    "\n",
    "*Suma (+):* La suma se realiza utilizando el operador +. Este operador puede sumar tanto números enteros como números de punto flotante."
   ]
  },
  {
   "cell_type": "markdown",
   "metadata": {},
   "source": [
    "## Codigo innecesario"
   ]
  },
  {
   "cell_type": "code",
   "execution_count": 14,
   "metadata": {},
   "outputs": [
    {
     "name": "stdout",
     "output_type": "stream",
     "text": [
      "La suma de a y b es: 15\n"
     ]
    }
   ],
   "source": [
    "a = 10\n",
    "b = 5\n",
    "suma = a + b\n",
    "print(\"La suma de a y b es:\", suma)"
   ]
  },
  {
   "cell_type": "markdown",
   "metadata": {},
   "source": [
    "## Vas a presentar"
   ]
  },
  {
   "cell_type": "markdown",
   "metadata": {},
   "source": [
    "Resta (-): La resta se realiza utilizando el operador -."
   ]
  },
  {
   "cell_type": "code",
   "execution_count": 2,
   "metadata": {},
   "outputs": [
    {
     "name": "stdout",
     "output_type": "stream",
     "text": [
      "La resta de a y b es: 5\n"
     ]
    }
   ],
   "source": [
    "resta = a - b\n",
    "print(\"La resta de a y b es:\", resta)"
   ]
  },
  {
   "cell_type": "markdown",
   "metadata": {},
   "source": [
    "Multiplicación (*): La multiplicación se realiza utilizando el operador *."
   ]
  },
  {
   "cell_type": "code",
   "execution_count": 3,
   "metadata": {},
   "outputs": [
    {
     "name": "stdout",
     "output_type": "stream",
     "text": [
      "La multiplicación de a y b es: 50\n"
     ]
    }
   ],
   "source": [
    "multiplicacion = a * b\n",
    "print(\"La multiplicación de a y b es:\", multiplicacion)"
   ]
  },
  {
   "cell_type": "markdown",
   "metadata": {},
   "source": [
    "División (/): La división se realiza utilizando el operador /. La división siempre devuelve un número de punto flotante."
   ]
  },
  {
   "cell_type": "code",
   "execution_count": 4,
   "metadata": {},
   "outputs": [
    {
     "name": "stdout",
     "output_type": "stream",
     "text": [
      "La división de a entre b es: 2.0\n"
     ]
    }
   ],
   "source": [
    "division = a / b\n",
    "print(\"La división de a entre b es:\", division)"
   ]
  },
  {
   "cell_type": "markdown",
   "metadata": {},
   "source": [
    "División Entera (//): La división entera devuelve el cociente sin el resto."
   ]
  },
  {
   "cell_type": "code",
   "execution_count": 5,
   "metadata": {},
   "outputs": [
    {
     "name": "stdout",
     "output_type": "stream",
     "text": [
      "La división entera de a entre b es: 5\n",
      "La división entera de a entre b es: 1\n",
      "a=10 y b=5\n",
      "La división entera de a entre b es: 2\n"
     ]
    }
   ],
   "source": [
    "division_entera1 = 11 // 2\n",
    "print(\"La división entera de a entre b es:\", division_entera1)\n",
    "division_entera2 = 11 % 2\n",
    "print(\"La división entera de a entre b es:\", division_entera2)\n",
    "\n",
    "division_entera = a // b\n",
    "print(\"a={} y b={}\".format(a, b))\n",
    "print(\"La división entera de a entre b es:\", division_entera)"
   ]
  },
  {
   "cell_type": "markdown",
   "metadata": {},
   "source": [
    "Módulo (%): El operador módulo devuelve el resto de la división."
   ]
  },
  {
   "cell_type": "code",
   "execution_count": 6,
   "metadata": {},
   "outputs": [
    {
     "name": "stdout",
     "output_type": "stream",
     "text": [
      "El resto de la división de a entre b es: 0\n"
     ]
    }
   ],
   "source": [
    "modulo = a % b\n",
    "print(\"El resto de la división de a entre b es:\", modulo)"
   ]
  },
  {
   "cell_type": "markdown",
   "metadata": {},
   "source": [
    "Potencia (**):El operador de potencia eleva un número a la potencia de otro."
   ]
  },
  {
   "cell_type": "code",
   "execution_count": 7,
   "metadata": {},
   "outputs": [
    {
     "name": "stdout",
     "output_type": "stream",
     "text": [
      "a elevado a la potencia de b es: 100000\n"
     ]
    }
   ],
   "source": [
    "potencia = a ** b\n",
    "print(\"a elevado a la potencia de b es:\", potencia)"
   ]
  },
  {
   "cell_type": "markdown",
   "metadata": {},
   "source": [
    "Valores Booleanos\n",
    "Los valores booleanos son esenciales para la lógica en programación. En Python, los valores booleanos pueden ser True o False.\n",
    "\n",
    "Operadores de Comparación: Los operadores de comparación se utilizan para comparar dos valores y devuelven un valor booleano.\n",
    "==: Igual a\n",
    "!=: Diferente de\n",
    "<: Menor que\n",
    ">: Mayor que\n",
    "<=: Menor o igual que\n",
    ">=: Mayor o igual que"
   ]
  },
  {
   "cell_type": "code",
   "execution_count": 8,
   "metadata": {},
   "outputs": [
    {
     "name": "stdout",
     "output_type": "stream",
     "text": [
      "False\n",
      "True\n",
      "True\n",
      "False\n",
      "True\n",
      "False\n"
     ]
    }
   ],
   "source": [
    "a = 10\n",
    "b = 5\n",
    "\n",
    "print(a == b)  # False\n",
    "print(a != b)  # True\n",
    "print(a > b)   # True\n",
    "print(a < b)   # False\n",
    "print(a >= b)  # True\n",
    "print(a <= b)  # False"
   ]
  },
  {
   "cell_type": "markdown",
   "metadata": {},
   "source": [
    "Operadores Lógicos: Los operadores lógicos se utilizan para combinar valores booleanos.\n",
    "and: Devuelve True si ambas expresiones son verdaderas\n",
    "or: Devuelve True si al menos una expresión es verdadera\n",
    "not: Invierte el valor booleano"
   ]
  },
  {
   "cell_type": "code",
   "execution_count": 9,
   "metadata": {},
   "outputs": [
    {
     "name": "stdout",
     "output_type": "stream",
     "text": [
      "False\n",
      "True\n",
      "False\n"
     ]
    }
   ],
   "source": [
    "x = True\n",
    "y = False\n",
    "\n",
    "print(x and y)  # False\n",
    "print(x or y)   # True\n",
    "print(not x)    # False"
   ]
  },
  {
   "cell_type": "markdown",
   "metadata": {},
   "source": [
    "Condicionales en Python\n",
    "Las estructuras condicionales permiten tomar decisiones en el código basadas en condiciones específicas. Las condicionales se construyen utilizando las palabras clave if, elif y else.\n",
    "\n",
    "Estructura Básica de if:  La estructura básica de un condicional if evalúa una expresión booleana y ejecuta el bloque de código correspondiente si la condición es verdadera."
   ]
  },
  {
   "cell_type": "code",
   "execution_count": 10,
   "metadata": {},
   "outputs": [
    {
     "name": "stdout",
     "output_type": "stream",
     "text": [
      "a es mayor que b\n"
     ]
    }
   ],
   "source": [
    "a = 10\n",
    "b = 5\n",
    "\n",
    "if a > b:\n",
    "    print(\"a es mayor que b\")"
   ]
  },
  {
   "cell_type": "markdown",
   "metadata": {},
   "source": [
    "Uso de else: El bloque else se ejecuta si la condición if es falsa."
   ]
  },
  {
   "cell_type": "code",
   "execution_count": 11,
   "metadata": {},
   "outputs": [
    {
     "name": "stdout",
     "output_type": "stream",
     "text": [
      "a no es mayor que b\n"
     ]
    }
   ],
   "source": [
    "a = 10\n",
    "b = 15\n",
    "\n",
    "if a > b:\n",
    "    print(\"a es mayor que b\")\n",
    "else:\n",
    "    print(\"a no es mayor que b\")"
   ]
  },
  {
   "cell_type": "markdown",
   "metadata": {},
   "source": [
    "Uso de elif: El bloque elif (abreviatura de «else if») permite comprobar múltiples condiciones."
   ]
  },
  {
   "cell_type": "code",
   "execution_count": 12,
   "metadata": {},
   "outputs": [
    {
     "name": "stdout",
     "output_type": "stream",
     "text": [
      "a es igual a b\n"
     ]
    }
   ],
   "source": [
    "a = 10\n",
    "b = 10\n",
    "\n",
    "if a > b:\n",
    "    print(\"a es mayor que b\")\n",
    "elif a < b:\n",
    "    print(\"a es menor que b\")\n",
    "else:\n",
    "    print(\"a es igual a b\")"
   ]
  },
  {
   "cell_type": "markdown",
   "metadata": {},
   "source": [
    "Condicionales Anidados: Puedes anidar condicionales dentro de otros condicionales para comprobar condiciones más complejas.\n"
   ]
  },
  {
   "cell_type": "code",
   "execution_count": 13,
   "metadata": {},
   "outputs": [
    {
     "name": "stdout",
     "output_type": "stream",
     "text": [
      "a es mayor que b pero menor o igual a c\n"
     ]
    }
   ],
   "source": [
    "a = 10\n",
    "b = 5\n",
    "c = 15\n",
    "\n",
    "if a > b:\n",
    "    if a > c:\n",
    "        print(\"a es el mayor\")\n",
    "    else:\n",
    "        print(\"a es mayor que b pero menor o igual a c\")\n",
    "else:\n",
    "    print(\"a no es mayor que b\")"
   ]
  }
 ],
 "metadata": {
  "kernelspec": {
   "display_name": "venv",
   "language": "python",
   "name": "python3"
  },
  "language_info": {
   "codemirror_mode": {
    "name": "ipython",
    "version": 3
   },
   "file_extension": ".py",
   "mimetype": "text/x-python",
   "name": "python",
   "nbconvert_exporter": "python",
   "pygments_lexer": "ipython3",
   "version": "3.12.6"
  }
 },
 "nbformat": 4,
 "nbformat_minor": 2
}
