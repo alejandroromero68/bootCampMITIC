{
 "cells": [
  {
   "cell_type": "markdown",
   "metadata": {},
   "source": [
    "Matematicas y condicionales (Práctica)"
   ]
  },
  {
   "cell_type": "code",
   "execution_count": 3,
   "metadata": {},
   "outputs": [
    {
     "name": "stdout",
     "output_type": "stream",
     "text": [
      "Calculadora Básica\n",
      "Selecciona una operación:\n",
      "1. Suma\n",
      "2. Resta\n",
      "3. Multiplicación\n",
      "4. División\n",
      "Opción no válida\n"
     ]
    }
   ],
   "source": [
    "def calculadora():\n",
    "    print(\"Calculadora Básica\")\n",
    "    \n",
    "    # Captura los números del usuario\n",
    "    num1 = float(input(\"Ingresa el primer número: \"))\n",
    "    num2 = float(input(\"Ingresa el segundo número: \"))\n",
    "    \n",
    "    # Muestra el menú de operaciones\n",
    "    print(\"Selecciona una operación:\")\n",
    "    print(\"1. Suma\")\n",
    "    print(\"2. Resta\")\n",
    "    print(\"3. Multiplicación\")\n",
    "    print(\"4. División\")\n",
    "    \n",
    "    # Captura la opción seleccionada\n",
    "    opcion = input(\"Ingresa el número de la operación: \")\n",
    "    \n",
    "    # Realiza la operación seleccionada\n",
    "    if opcion == \"1\":\n",
    "        resultado = num1 + num2\n",
    "        print(\"El resultado de la suma es:\", resultado)\n",
    "    elif opcion == \"2\":\n",
    "        resultado = num1 - num2\n",
    "        print(\"El resultado de la resta es:\", resultado)\n",
    "    elif opcion == \"3\":\n",
    "        resultado = num1 * num2\n",
    "        print(\"El resultado de la multiplicación es:\", resultado)\n",
    "    elif opcion == \"4\":\n",
    "        if num2 != 0:\n",
    "            resultado = num1 / num2\n",
    "            print(\"El resultado de la división es:\", resultado)\n",
    "        else:\n",
    "            print(\"Error: División por cero\")\n",
    "    else:\n",
    "        print(\"Opción no válida\")\n",
    "\n",
    "calculadora()"
   ]
  },
  {
   "cell_type": "markdown",
   "metadata": {},
   "source": [
    "Ejercicio 2: Determinar la Mayoría de Edad\n",
    "\n",
    "Crea un programa que pida al usuario su edad y determine si es mayor de edad (18 años o más)."
   ]
  },
  {
   "cell_type": "code",
   "execution_count": 4,
   "metadata": {},
   "outputs": [
    {
     "name": "stdout",
     "output_type": "stream",
     "text": [
      "Eres mayor de edad.\n"
     ]
    }
   ],
   "source": [
    "edad = int(input(\"¿Cuál es tu edad? \"))\n",
    "\n",
    "if edad >= 18:\n",
    "    print(\"Eres mayor de edad.\")\n",
    "else:\n",
    "    print(\"No eres mayor de edad.\")"
   ]
  },
  {
   "cell_type": "markdown",
   "metadata": {},
   "source": [
    "Ejercicio 3: Juego de Adivinanza"
   ]
  },
  {
   "cell_type": "code",
   "execution_count": 5,
   "metadata": {},
   "outputs": [
    {
     "name": "stdout",
     "output_type": "stream",
     "text": [
      "¡Bienvenido al juego de adivinanza!\n",
      "He seleccionado un número entre 1 y 100. ¡Adivina cuál es!\n",
      "El número es mayor.\n",
      "El número es mayor.\n",
      "El número es mayor.\n",
      "El número es mayor.\n",
      "El número es menor.\n",
      "El número es menor.\n",
      "El número es menor.\n",
      "El número es mayor.\n"
     ]
    },
    {
     "ename": "ValueError",
     "evalue": "invalid literal for int() with base 10: ''",
     "output_type": "error",
     "traceback": [
      "\u001b[1;31m---------------------------------------------------------------------------\u001b[0m",
      "\u001b[1;31mValueError\u001b[0m                                Traceback (most recent call last)",
      "Cell \u001b[1;32mIn[5], line 11\u001b[0m\n\u001b[0;32m      8\u001b[0m \u001b[38;5;28mprint\u001b[39m(\u001b[38;5;124m\"\u001b[39m\u001b[38;5;124mHe seleccionado un número entre 1 y 100. ¡Adivina cuál es!\u001b[39m\u001b[38;5;124m\"\u001b[39m)\n\u001b[0;32m     10\u001b[0m \u001b[38;5;28;01mwhile\u001b[39;00m \u001b[38;5;129;01mnot\u001b[39;00m encontrado:\n\u001b[1;32m---> 11\u001b[0m     intento \u001b[38;5;241m=\u001b[39m \u001b[38;5;28;43mint\u001b[39;49m\u001b[43m(\u001b[49m\u001b[38;5;28;43minput\u001b[39;49m\u001b[43m(\u001b[49m\u001b[38;5;124;43m\"\u001b[39;49m\u001b[38;5;124;43mIngresa tu número: \u001b[39;49m\u001b[38;5;124;43m\"\u001b[39;49m\u001b[43m)\u001b[49m\u001b[43m)\u001b[49m\n\u001b[0;32m     12\u001b[0m     intentos \u001b[38;5;241m+\u001b[39m\u001b[38;5;241m=\u001b[39m \u001b[38;5;241m1\u001b[39m\n\u001b[0;32m     14\u001b[0m     \u001b[38;5;28;01mif\u001b[39;00m intento \u001b[38;5;241m<\u001b[39m numero_secreto:\n",
      "\u001b[1;31mValueError\u001b[0m: invalid literal for int() with base 10: ''"
     ]
    }
   ],
   "source": [
    "import random\n",
    "\n",
    "numero_secreto = random.randint(1, 100)\n",
    "intentos = 0\n",
    "encontrado = False\n",
    "\n",
    "print(\"¡Bienvenido al juego de adivinanza!\")\n",
    "print(\"He seleccionado un número entre 1 y 100. ¡Adivina cuál es!\")\n",
    "\n",
    "while not encontrado:\n",
    "    intento = int(input(\"Ingresa tu número: \"))\n",
    "    intentos += 1\n",
    "    \n",
    "    if intento < numero_secreto:\n",
    "        print(\"El número es mayor.\")\n",
    "    elif intento > numero_secreto:\n",
    "        print(\"El número es menor.\")\n",
    "    else:\n",
    "        print(f\"¡Felicidades! Has adivinado el número en {intentos} intentos.\")\n",
    "        encontrado = True"
   ]
  },
  {
   "cell_type": "markdown",
   "metadata": {},
   "source": [
    "Ejercicio 4: Comparación de Tres Números"
   ]
  },
  {
   "cell_type": "code",
   "execution_count": 6,
   "metadata": {},
   "outputs": [
    {
     "name": "stdout",
     "output_type": "stream",
     "text": [
      "El segundo número es el mayor.\n"
     ]
    }
   ],
   "source": [
    "num1 = float(input(\"Ingresa el primer número: \"))\n",
    "num2 = float(input(\"Ingresa el segundo número: \"))\n",
    "num3 = float(input(\"Ingresa el tercer número: \"))\n",
    "\n",
    "if num1 >= num2 and num1 >= num3:\n",
    "    print(\"El primer número es el mayor.\")\n",
    "elif num2 >= num1 and num2 >= num3:\n",
    "    print(\"El segundo número es el mayor.\")\n",
    "else:\n",
    "    print(\"El tercer número es el mayor.\")"
   ]
  }
 ],
 "metadata": {
  "kernelspec": {
   "display_name": "venv",
   "language": "python",
   "name": "python3"
  },
  "language_info": {
   "codemirror_mode": {
    "name": "ipython",
    "version": 3
   },
   "file_extension": ".py",
   "mimetype": "text/x-python",
   "name": "python",
   "nbconvert_exporter": "python",
   "pygments_lexer": "ipython3",
   "version": "3.12.6"
  }
 },
 "nbformat": 4,
 "nbformat_minor": 2
}
